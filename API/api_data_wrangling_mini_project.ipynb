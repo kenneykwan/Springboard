{
 "cells": [
  {
   "cell_type": "markdown",
   "metadata": {},
   "source": [
    "This exercise will require you to pull some data from the Qunadl API. Qaundl is currently the most widely used aggregator of financial market data."
   ]
  },
  {
   "cell_type": "markdown",
   "metadata": {},
   "source": [
    "As a first step, you will need to register a free account on the http://www.quandl.com website."
   ]
  },
  {
   "cell_type": "markdown",
   "metadata": {},
   "source": [
    "After you register, you will be provided with a unique API key, that you should store:"
   ]
  },
  {
   "cell_type": "code",
   "execution_count": 1,
   "metadata": {},
   "outputs": [],
   "source": [
    "# Store the API key as a string - according to PEP8, constants are always named in all upper case\n",
    "API_KEY = ''"
   ]
  },
  {
   "cell_type": "markdown",
   "metadata": {},
   "source": [
    "Qaundl has a large number of data sources, but, unfortunately, most of them require a Premium subscription. Still, there are also a good number of free datasets."
   ]
  },
  {
   "cell_type": "markdown",
   "metadata": {},
   "source": [
    "For this mini project, we will focus on equities data from the Frankfurt Stock Exhange (FSE), which is available for free. We'll try and analyze the stock prices of a company called Carl Zeiss Meditec, which manufactures tools for eye examinations, as well as medical lasers for laser eye surgery: https://www.zeiss.com/meditec/int/home.html. The company is listed under the stock ticker AFX_X."
   ]
  },
  {
   "cell_type": "markdown",
   "metadata": {},
   "source": [
    "You can find the detailed Quandl API instructions here: https://docs.quandl.com/docs/time-series"
   ]
  },
  {
   "cell_type": "markdown",
   "metadata": {},
   "source": [
    "While there is a dedicated Python package for connecting to the Quandl API, we would prefer that you use the *requests* package, which can be easily downloaded using *pip* or *conda*. You can find the documentation for the package here: http://docs.python-requests.org/en/master/ "
   ]
  },
  {
   "cell_type": "markdown",
   "metadata": {},
   "source": [
    "Finally, apart from the *requests* package, you are encouraged to not use any third party Python packages, such as *pandas*, and instead focus on what's available in the Python Standard Library (the *collections* module might come in handy: https://pymotw.com/3/collections/ ).\n",
    "Also, since you won't have access to DataFrames, you are encouraged to us Python's native data structures - preferably dictionaries, though some questions can also be answered using lists.\n",
    "You can read more on these data structures here: https://docs.python.org/3/tutorial/datastructures.html"
   ]
  },
  {
   "cell_type": "markdown",
   "metadata": {},
   "source": [
    "Keep in mind that the JSON responses you will be getting from the API map almost one-to-one to Python's dictionaries. Unfortunately, they can be very nested, so make sure you read up on indexing dictionaries in the documentation provided above."
   ]
  },
  {
   "cell_type": "code",
   "execution_count": 2,
   "metadata": {},
   "outputs": [],
   "source": [
    "# First, import the relevant modules\n",
    "import requests\n",
    "import json"
   ]
  },
  {
   "cell_type": "code",
   "execution_count": 3,
   "metadata": {},
   "outputs": [],
   "source": [
    "# Now, call the Quandl API and pull out a small sample of the data (only one day) to get a glimpse\n",
    "# into the JSON structure that will be returned\n",
    "\n",
    "url = 'https://www.quandl.com/api/v3/datasets/FSE/AFX_X/data.json?rows=1&start_date = 2017-12-29&end_date = 2017-12-30&api_key=' +API_KEY\n",
    "\n",
    "r = requests.get(url)\n",
    "json_data = r.json()"
   ]
  },
  {
   "cell_type": "code",
   "execution_count": 4,
   "metadata": {},
   "outputs": [
    {
     "name": "stdout",
     "output_type": "stream",
     "text": [
      "{'dataset_data': {'limit': 1, 'transform': None, 'column_index': None, 'column_names': ['Date', 'Open', 'High', 'Low', 'Close', 'Change', 'Traded Volume', 'Turnover', 'Last Price of the Day', 'Daily Traded Units', 'Daily Turnover'], 'start_date': '2000-06-07', 'end_date': '2020-12-01', 'frequency': 'daily', 'data': [['2020-12-01', 112.2, 112.2, 111.5, 112.0, None, 51.0, 5703.0, None, None, None]], 'collapse': None, 'order': None}}\n"
     ]
    }
   ],
   "source": [
    "# Inspect the JSON structure of the object you created, and take note of how nested it is,\n",
    "# as well as the overall structure\n",
    "print(json_data)"
   ]
  },
  {
   "cell_type": "code",
   "execution_count": 5,
   "metadata": {
    "scrolled": true
   },
   "outputs": [
    {
     "name": "stdout",
     "output_type": "stream",
     "text": [
      "dataset_data:  {'limit': 1, 'transform': None, 'column_index': None, 'column_names': ['Date', 'Open', 'High', 'Low', 'Close', 'Change', 'Traded Volume', 'Turnover', 'Last Price of the Day', 'Daily Traded Units', 'Daily Turnover'], 'start_date': '2000-06-07', 'end_date': '2020-12-01', 'frequency': 'daily', 'data': [['2020-12-01', 112.2, 112.2, 111.5, 112.0, None, 51.0, 5703.0, None, None, None]], 'collapse': None, 'order': None}\n"
     ]
    }
   ],
   "source": [
    "for k in json_data.keys():\n",
    "    print(k + ': ', json_data[k])"
   ]
  },
  {
   "cell_type": "markdown",
   "metadata": {},
   "source": [
    "These are your tasks for this mini project:\n",
    "\n",
    "1. Collect data from the Franfurt Stock Exchange, for the ticker AFX_X, for the whole year 2017 (keep in mind that the date format is YYYY-MM-DD).\n",
    "2. Convert the returned JSON object into a Python dictionary.\n",
    "3. Calculate what the highest and lowest opening prices were for the stock in this period.\n",
    "4. What was the largest change in any one day (based on High and Low price)?\n",
    "5. What was the largest change between any two days (based on Closing Price)?\n",
    "6. What was the average daily trading volume during this year?\n",
    "7. (Optional) What was the median trading volume during this year. (Note: you may need to implement your own function for calculating the median.)"
   ]
  },
  {
   "cell_type": "code",
   "execution_count": 6,
   "metadata": {},
   "outputs": [],
   "source": [
    "# Task1: Collect data from the Franfurt Stock Exchange, for the ticker AFX_X,\n",
    "# for the whole year 2017 (keep in mind that the date format is YYYY-MM-DD).\n",
    "\n",
    "url = 'https://www.quandl.com/api/v3/datasets/FSE/AFX_X/data.json?start_date=2017-01-01&end_date=2017-12-31&api_key='+API_KEY\n",
    "\n",
    "r = requests.get(url)"
   ]
  },
  {
   "cell_type": "code",
   "execution_count": 7,
   "metadata": {},
   "outputs": [
    {
     "name": "stdout",
     "output_type": "stream",
     "text": [
      "['Date', 'Open', 'High', 'Low', 'Close', 'Change', 'Traded Volume', 'Turnover', 'Last Price of the Day', 'Daily Traded Units', 'Daily Turnover']\n"
     ]
    }
   ],
   "source": [
    "# Task2: Convert the returned JSON object into a Python dictionary.\n",
    "json_data = r.json()\n",
    "print(json_data['dataset_data']['column_names'])"
   ]
  },
  {
   "cell_type": "code",
   "execution_count": 8,
   "metadata": {},
   "outputs": [
    {
     "name": "stdout",
     "output_type": "stream",
     "text": [
      "Highest Opening Price in 2017: $53.11\n",
      "Lowest Opening Price in 2017: $34.0\n"
     ]
    }
   ],
   "source": [
    "# Task3: Calculate what the highest and lowest opening prices were for the stock in this period.\n",
    "price = []\n",
    "for prices in json_data['dataset_data']['data']:\n",
    "    if prices[1] != None:\n",
    "        price.append(prices[1])\n",
    "\n",
    "max_opening_price= max(price)\n",
    "min_opening_price= min(price)\n",
    "\n",
    "print(\"Highest Opening Price in 2017: $\" + str(max_opening_price))\n",
    "print(\"Lowest Opening Price in 2017: $\" + str(min_opening_price))"
   ]
  },
  {
   "cell_type": "code",
   "execution_count": 9,
   "metadata": {},
   "outputs": [
    {
     "name": "stdout",
     "output_type": "stream",
     "text": [
      "The Largest change in any one day in 2017 was: $2.81\n"
     ]
    }
   ],
   "source": [
    "# Task4: What was the largest change in any one day (based on High and Low price)?\n",
    "\n",
    "change_in_price = []\n",
    "for prices in json_data['dataset_data']['data']:\n",
    "    change_in_price.append(prices[2] - prices[3])\n",
    "\n",
    "largest_price_change = \"{0:.2f}\".format(max(change_in_price))\n",
    "\n",
    "print(\"The Largest change in any one day in 2017 was: $\" + largest_price_change)"
   ]
  },
  {
   "cell_type": "code",
   "execution_count": 10,
   "metadata": {},
   "outputs": [
    {
     "name": "stdout",
     "output_type": "stream",
     "text": [
      "The largest change between any two days based on closing price in 2017 was: $2.56\n"
     ]
    }
   ],
   "source": [
    "# Task5: What was the largest change between any two days (based on Closing Price)?\n",
    "closing_price = []\n",
    "closing_price_change=[]\n",
    "for prices in json_data['dataset_data']['data']:\n",
    "    closing_price.append(prices[4])\n",
    "    \n",
    "for index,value in enumerate(closing_price[1:],start = 1):\n",
    "    \n",
    "    closing_price_change.append(value - closing_price[index-1])\n",
    "\n",
    "closing_days_price_change = \"{0:.2f}\".format(max(closing_price_change))\n",
    "\n",
    "print(\"The largest change between any two days based on closing price in 2017 was: $\" + closing_days_price_change)"
   ]
  },
  {
   "cell_type": "code",
   "execution_count": 11,
   "metadata": {},
   "outputs": [
    {
     "name": "stdout",
     "output_type": "stream",
     "text": [
      "The average daily trading volume in 2017 was: 89124.34\n"
     ]
    }
   ],
   "source": [
    "# Task6: What was the average daily trading volume during this year?\n",
    "daily_trade=[]\n",
    "for prices in json_data['dataset_data']['data']:\n",
    "    daily_trade.append(prices[6])\n",
    "    \n",
    "average_trade = \"{0:.2f}\".format(sum(daily_trade)/(len(daily_trade)))\n",
    "\n",
    "\n",
    "print(\"The average daily trading volume in 2017 was: \" + average_trade)"
   ]
  },
  {
   "cell_type": "code",
   "execution_count": 12,
   "metadata": {},
   "outputs": [
    {
     "name": "stdout",
     "output_type": "stream",
     "text": [
      "The median trading volume for 2017 is: 76286.0\n"
     ]
    }
   ],
   "source": [
    "# Task7: (Optional) What was the median trading volume during this year. \n",
    "#(Note: you may need to implement your own function for calculating the median.)\n",
    "def median(xlist):\n",
    "\n",
    "    xlist.sort()\n",
    "\n",
    "    if(len(xlist)%2):\n",
    "        mid = len(xlist)/2\n",
    "        return xlist[int(mid)]\n",
    "    else:\n",
    "        mid = len(xlist) // 2\n",
    "        return (xlist[mid] + xlist[mid+1]) / 2\n",
    "        \n",
    "\n",
    "med = median(daily_trade)\n",
    "    \n",
    "print(\"The median trading volume for 2017 is: \" + str(med))"
   ]
  },
  {
   "cell_type": "code",
   "execution_count": null,
   "metadata": {},
   "outputs": [],
   "source": []
  }
 ],
 "metadata": {
  "kernelspec": {
   "display_name": "Python 3",
   "language": "python",
   "name": "python3"
  },
  "language_info": {
   "codemirror_mode": {
    "name": "ipython",
    "version": 3
   },
   "file_extension": ".py",
   "mimetype": "text/x-python",
   "name": "python",
   "nbconvert_exporter": "python",
   "pygments_lexer": "ipython3",
   "version": "3.8.5"
  }
 },
 "nbformat": 4,
 "nbformat_minor": 2
}
