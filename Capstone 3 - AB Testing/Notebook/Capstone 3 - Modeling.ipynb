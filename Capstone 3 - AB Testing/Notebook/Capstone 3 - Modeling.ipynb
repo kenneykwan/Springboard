{
 "cells": [
  {
   "cell_type": "markdown",
   "metadata": {},
   "source": [
    "## Modeling"
   ]
  },
  {
   "cell_type": "markdown",
   "metadata": {},
   "source": [
    "### Z Test for the sample that clicked on yes or no/noresponse\n",
    "\n",
    "In this section, we are going to check the p value of our z test and see if we reject or accept the null hypthoesi. All models are using a 95% confidence interval. \n",
    "\n",
    "Null hypothesis: There is no significant difference between the ad success rate of both groups\n",
    "\n",
    "Alt hypothesis: There is significant difference between the ad success of both groups\n",
    "\n"
   ]
  },
  {
   "cell_type": "code",
   "execution_count": 1,
   "metadata": {},
   "outputs": [],
   "source": [
    "import pandas as pd\n",
    "import matplotlib.pyplot as plt\n",
    "import seaborn as sns\n",
    "import datetime\n",
    "import plotly\n",
    "import numpy as np\n",
    "\n",
    "from scipy import stats"
   ]
  },
  {
   "cell_type": "code",
   "execution_count": 2,
   "metadata": {},
   "outputs": [],
   "source": [
    "abdata = pd.read_csv('../Data/abtesting_cleaned.csv')\n",
    "\n",
    "outcome_table = pd.DataFrame(columns =['Test', 'P value', 'Results'] )\n",
    "pd.set_option(\"display.max_colwidth\", None)"
   ]
  },
  {
   "cell_type": "code",
   "execution_count": 3,
   "metadata": {},
   "outputs": [
    {
     "name": "stdout",
     "output_type": "stream",
     "text": [
      "[4071, 4006]\n",
      "[264, 308]\n",
      "p-value: 0.035\n",
      "ci 95% for control group: [0.057, 0.072]\n",
      "ci 95% for treatment group: [0.069, 0.085]\n"
     ]
    }
   ],
   "source": [
    "from statsmodels.stats.proportion import proportions_ztest, proportion_confint\n",
    "\n",
    "control_results = abdata[abdata['experiment'] == 'control']['success']\n",
    "exp_results = abdata[abdata['experiment'] == 'exposed']['success']\n",
    "\n",
    "n_con = control_results.count()\n",
    "n_exp = exp_results.count()\n",
    "\n",
    "successes = [control_results.sum(), exp_results.sum()]\n",
    "nobs = [n_con, n_exp]\n",
    "print(nobs)\n",
    "print(successes)\n",
    "\n",
    "z_stat, pval = proportions_ztest(successes, nobs=nobs)\n",
    "(lower_con, lower_exp), (upper_con, upper_exp) = proportion_confint(successes, nobs=nobs, alpha=0.05)\n",
    "\n",
    "print(f'p-value: {pval:.3f}')\n",
    "print(f'ci 95% for control group: [{lower_con:.3f}, {upper_con:.3f}]')\n",
    "print(f'ci 95% for treatment group: [{lower_exp:.3f}, {upper_exp:.3f}]')\n",
    "\n",
    "outcome_table = outcome_table.append({'Test' : 'Yes vs no/no response', 'P value': pval, 'Results': \n",
    "                      'Reject the null hypothesis. There is a significant difference in ad success between the control group and the exposed group.'}, ignore_index = True)"
   ]
  },
  {
   "cell_type": "markdown",
   "metadata": {},
   "source": [
    "since our p value is less than 0.05, then we reject the null hypothesis. There is a significant difference in ad success between the control group with the dummy ad and the exposed group with the new ad. \n",
    "\n",
    "That means that our exposed group were more likely to click yes after viewing the new ad. Our 95% confidence intervals shows that the true mean of ad success rate is higher for the treatment group by around 12% "
   ]
  },
  {
   "cell_type": "markdown",
   "metadata": {},
   "source": [
    "## Z Test for the sample that clicked on yes or no at the end of the ad"
   ]
  },
  {
   "cell_type": "markdown",
   "metadata": {},
   "source": [
    "Null hypothesis: There is no significant difference between the questionnaire engagement rate of both groups\n",
    "\n",
    "Alt hypothesis: There is significant difference between the questionnaire engagement rate of both groups"
   ]
  },
  {
   "cell_type": "code",
   "execution_count": 4,
   "metadata": {},
   "outputs": [],
   "source": [
    "control_results = abdata.loc[((abdata['experiment'] == 'control') & (abdata['no_response'] == 0))][['success','no_response']]\n",
    "exp_results = abdata[((abdata['experiment'] == 'exposed')& (abdata['no_response'] == 0))][['success','no_response']]"
   ]
  },
  {
   "cell_type": "code",
   "execution_count": 5,
   "metadata": {},
   "outputs": [],
   "source": [
    "n_con = len(control_results)\n",
    "n_exp = len(exp_results)\n",
    "nobs = [n_con, n_exp]"
   ]
  },
  {
   "cell_type": "code",
   "execution_count": 6,
   "metadata": {},
   "outputs": [
    {
     "name": "stdout",
     "output_type": "stream",
     "text": [
      "[586, 657]\n",
      "[264, 308]\n"
     ]
    }
   ],
   "source": [
    "successes = [control_results['success'].sum(), exp_results['success'].sum()]\n",
    "nobs = [n_con, n_exp]\n",
    "print(nobs)\n",
    "print(successes)"
   ]
  },
  {
   "cell_type": "code",
   "execution_count": 7,
   "metadata": {},
   "outputs": [
    {
     "name": "stdout",
     "output_type": "stream",
     "text": [
      "p-value: 0.518\n",
      "ci 95% for control group: [0.410, 0.491]\n",
      "ci 95% for treatment group: [0.431, 0.507]\n"
     ]
    }
   ],
   "source": [
    "z_stat, pval = proportions_ztest(successes, nobs=nobs)\n",
    "(lower_con, lower_exp), (upper_con, upper_exp) = proportion_confint(successes, nobs=nobs, alpha=0.05)\n",
    "\n",
    "print(f'p-value: {pval:.3f}')\n",
    "print(f'ci 95% for control group: [{lower_con:.3f}, {upper_con:.3f}]')\n",
    "print(f'ci 95% for treatment group: [{lower_exp:.3f}, {upper_exp:.3f}]')\n",
    "outcome_table = outcome_table.append({'Test':'Yes vs no', 'P value' : pval,'Results' : \n",
    "                      'Fail to reject the null hypothesis. There is no significant difference in questionnaire engagement between the control group and the exposed group.'},ignore_index = True)"
   ]
  },
  {
   "cell_type": "markdown",
   "metadata": {},
   "source": [
    "since our p value is greater than 0.05, then we fail to reject the null hypothesis. There is no significant difference in questionnaire engagement between the control group with the dummy ad and the exposed group with the new ad.\n",
    "\n",
    "That means that when filtering out the no response answers. The proportion of users that clicked on yes or no is about the same in both groups. This could be due to the low sample size of users that clicked on yes or no. We only have 586 observations of users that responsed with a yes or no in the control group and 657 in the exposed group "
   ]
  },
  {
   "cell_type": "markdown",
   "metadata": {},
   "source": [
    "## Z test for No Responses \n",
    "\n",
    "Null hypothesis: There is no significant difference between ad disengagement rate between groups\n",
    "\n",
    "Alt hypothesis: There is significant difference between ad disengagement rate between groups"
   ]
  },
  {
   "cell_type": "code",
   "execution_count": 8,
   "metadata": {},
   "outputs": [],
   "source": [
    "control_results = abdata.loc[((abdata['experiment'] == 'control'))][['success','no_response']]\n",
    "exp_results = abdata[((abdata['experiment'] == 'exposed'))][['success','no_response']]"
   ]
  },
  {
   "cell_type": "code",
   "execution_count": 9,
   "metadata": {},
   "outputs": [
    {
     "name": "stdout",
     "output_type": "stream",
     "text": [
      "[4071, 4006]\n",
      "[3485, 3349]\n"
     ]
    }
   ],
   "source": [
    "n_con = len(control_results)\n",
    "n_exp = len(exp_results)\n",
    "nobs = [n_con, n_exp]\n",
    "\n",
    "successes = [control_results['no_response'].sum(), exp_results['no_response'].sum()]\n",
    "print(nobs)\n",
    "print(successes)"
   ]
  },
  {
   "cell_type": "code",
   "execution_count": 10,
   "metadata": {},
   "outputs": [
    {
     "name": "stdout",
     "output_type": "stream",
     "text": [
      "p-value: 0.012\n",
      "ci 95% for control group: [0.845, 0.867]\n",
      "ci 95% for treatment group: [0.825, 0.847]\n"
     ]
    }
   ],
   "source": [
    "z_stat, pval = proportions_ztest(successes, nobs=nobs)\n",
    "(lower_con, lower_exp), (upper_con, upper_exp) = proportion_confint(successes, nobs=nobs, alpha=0.05)\n",
    "\n",
    "print(f'p-value: {pval:.3f}')\n",
    "print(f'ci 95% for control group: [{lower_con:.3f}, {upper_con:.3f}]')\n",
    "print(f'ci 95% for treatment group: [{lower_exp:.3f}, {upper_exp:.3f}]')\n",
    "outcome_table = outcome_table.append({'Test': 'no response vs response','P value' : pval, 'Results' : \n",
    "                      'Reject the null hypothesis. There is a significant difference in questionnaire disengagement between the control group and the exposed group.'}, ignore_index = True)"
   ]
  },
  {
   "cell_type": "markdown",
   "metadata": {},
   "source": [
    "since our p value is less than 0.05, then we reject the null hypothesis. There is a significant difference in questionnaire disengagement rate the control group with the dummy ad and the exposed group with the new ad.\n",
    "\n",
    "That means that our exposed group were less likely to click away from the ad and answer either yes or no at the end of the ad. The difference is slight, but our 95% confidence intervals shows that the true mean of customer disengagement rate is lower for the treatment group by around 2% "
   ]
  },
  {
   "cell_type": "markdown",
   "metadata": {},
   "source": [
    "## Outcome Table"
   ]
  },
  {
   "cell_type": "code",
   "execution_count": 12,
   "metadata": {},
   "outputs": [
    {
     "data": {
      "text/html": [
       "<div>\n",
       "<style scoped>\n",
       "    .dataframe tbody tr th:only-of-type {\n",
       "        vertical-align: middle;\n",
       "    }\n",
       "\n",
       "    .dataframe tbody tr th {\n",
       "        vertical-align: top;\n",
       "    }\n",
       "\n",
       "    .dataframe thead th {\n",
       "        text-align: right;\n",
       "    }\n",
       "</style>\n",
       "<table border=\"1\" class=\"dataframe\">\n",
       "  <thead>\n",
       "    <tr style=\"text-align: right;\">\n",
       "      <th></th>\n",
       "      <th>P value</th>\n",
       "      <th>Results</th>\n",
       "    </tr>\n",
       "    <tr>\n",
       "      <th>Test</th>\n",
       "      <th></th>\n",
       "      <th></th>\n",
       "    </tr>\n",
       "  </thead>\n",
       "  <tbody>\n",
       "    <tr>\n",
       "      <th>Yes vs no/no response</th>\n",
       "      <td>0.035006</td>\n",
       "      <td>Reject the null hypothesis. There is a significant difference in ad success between the control group and the exposed group.</td>\n",
       "    </tr>\n",
       "    <tr>\n",
       "      <th>Yes vs no</th>\n",
       "      <td>0.518486</td>\n",
       "      <td>Fail to reject the null hypothesis. There is no significant difference in questionnaire engagement between the control group and the exposed group.</td>\n",
       "    </tr>\n",
       "    <tr>\n",
       "      <th>no response vs response</th>\n",
       "      <td>0.012495</td>\n",
       "      <td>Reject the null hypothesis. There is a significant difference in questionnaire disengagement between the control group and the exposed group.</td>\n",
       "    </tr>\n",
       "  </tbody>\n",
       "</table>\n",
       "</div>"
      ],
      "text/plain": [
       "                          P value  \\\n",
       "Test                                \n",
       "Yes vs no/no response    0.035006   \n",
       "Yes vs no                0.518486   \n",
       "no response vs response  0.012495   \n",
       "\n",
       "                                                                                                                                                                     Results  \n",
       "Test                                                                                                                                                                          \n",
       "Yes vs no/no response                           Reject the null hypothesis. There is a significant difference in ad success between the control group and the exposed group.  \n",
       "Yes vs no                Fail to reject the null hypothesis. There is no significant difference in questionnaire engagement between the control group and the exposed group.  \n",
       "no response vs response        Reject the null hypothesis. There is a significant difference in questionnaire disengagement between the control group and the exposed group.  "
      ]
     },
     "execution_count": 12,
     "metadata": {},
     "output_type": "execute_result"
    }
   ],
   "source": [
    "outcome_table.set_index('Test')"
   ]
  },
  {
   "cell_type": "markdown",
   "metadata": {},
   "source": [
    "## Insights and Recommendations"
   ]
  },
  {
   "cell_type": "markdown",
   "metadata": {},
   "source": [
    "Insights\n",
    "* When looking at the different statistical models, we ran the model on different metrics of 'success'\n",
    "* The test for yes vs no/response shows that the differences between control and exposed group was significant. The new ad had an improved impact on customers engaging in the questionnaire \n",
    "* The data shows the ad success rate of the control group to be 6.48% and the exposed group to be 7.69%\n",
    "* The test for only Yes vs No responses shows that the differences were not significant. \n",
    "* The test for no response rate shows that there is a significant difference between the control and exposed group. The exposed group has a lower rate of no response compared to the control group. \n",
    "* The data shows the ad no response rate of the control group to be 85.61% and the exposed group to be 83.60%\n",
    "\n",
    "\n",
    "Recommendations\n",
    "* The data suggests that when looking at yes responses vs no/no response and no response rate, the new ad has more people engaging with the questionnaire. \n",
    "* In the Yes vs No model, however we saw no statistical significance between the groups \n",
    "* That would mean that the new ad is better at converting customers that normally would not respond\n",
    "* Therefore, I would recommend the business use the new ad as it has shown to increase customer engagement with the questionnaire \n"
   ]
  },
  {
   "cell_type": "code",
   "execution_count": null,
   "metadata": {},
   "outputs": [],
   "source": []
  }
 ],
 "metadata": {
  "kernelspec": {
   "display_name": "Python 3",
   "language": "python",
   "name": "python3"
  },
  "language_info": {
   "codemirror_mode": {
    "name": "ipython",
    "version": 3
   },
   "file_extension": ".py",
   "mimetype": "text/x-python",
   "name": "python",
   "nbconvert_exporter": "python",
   "pygments_lexer": "ipython3",
   "version": "3.8.5"
  }
 },
 "nbformat": 4,
 "nbformat_minor": 4
}
