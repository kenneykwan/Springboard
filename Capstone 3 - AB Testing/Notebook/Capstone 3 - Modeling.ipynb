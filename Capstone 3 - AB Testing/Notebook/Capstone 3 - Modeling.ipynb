{
 "cells": [
  {
   "cell_type": "markdown",
   "metadata": {},
   "source": [
    "## Modeling"
   ]
  },
  {
   "cell_type": "markdown",
   "metadata": {},
   "source": [
    "In this section, we are going to check the p value of our z test and see if we reject or accept the null hypthoesis \n",
    "\n",
    "Null hypothesis: There is no significant difference between the ad success rate of both groups\n",
    "\n",
    "Alt hypothesis: There is significant difference between the ad success of both groups\n",
    "\n"
   ]
  },
  {
   "cell_type": "code",
   "execution_count": 2,
   "metadata": {},
   "outputs": [],
   "source": [
    "import pandas as pd\n",
    "import matplotlib.pyplot as plt\n",
    "import seaborn as sns\n",
    "import datetime\n",
    "import plotly\n",
    "import numpy as np\n",
    "\n",
    "from scipy import stats"
   ]
  },
  {
   "cell_type": "code",
   "execution_count": 3,
   "metadata": {},
   "outputs": [],
   "source": [
    "abdata = pd.read_csv('../Data/abtesting_cleaned.csv')"
   ]
  },
  {
   "cell_type": "code",
   "execution_count": 82,
   "metadata": {},
   "outputs": [
    {
     "name": "stdout",
     "output_type": "stream",
     "text": [
      "[4071, 4006]\n",
      "[264, 308]\n",
      "z statistic: -2.11\n",
      "p-value: 0.035\n",
      "ci 95% for control group: [0.057, 0.072]\n",
      "ci 95% for treatment group: [0.069, 0.085]\n"
     ]
    }
   ],
   "source": [
    "from statsmodels.stats.proportion import proportions_ztest, proportion_confint\n",
    "\n",
    "control_results = abdata[abdata['experiment'] == 'control']['success']\n",
    "exp_results = abdata[abdata['experiment'] == 'exposed']['success']\n",
    "\n",
    "n_con = control_results.count()\n",
    "n_exp = exp_results.count()\n",
    "\n",
    "successes = [control_results.sum(), exp_results.sum()]\n",
    "nobs = [n_con, n_exp]\n",
    "print(nobs)\n",
    "print(successes)\n",
    "\n",
    "z_stat, pval = proportions_ztest(successes, nobs=nobs)\n",
    "(lower_con, lower_exp), (upper_con, upper_exp) = proportion_confint(successes, nobs=nobs, alpha=0.05)\n",
    "\n",
    "print(f'z statistic: {z_stat:.2f}')\n",
    "print(f'p-value: {pval:.3f}')\n",
    "print(f'ci 95% for control group: [{lower_con:.3f}, {upper_con:.3f}]')\n",
    "print(f'ci 95% for treatment group: [{lower_exp:.3f}, {upper_exp:.3f}]')"
   ]
  },
  {
   "cell_type": "markdown",
   "metadata": {},
   "source": [
    "since our p value is less than 0.05, then we reject the null hypothesis. There is a significant difference in ad success between the control group with the dummy ad and the exposed group with the new ad. \n",
    "\n",
    "That means that our exposed group were more likely to click yes after viewing the new ad. Our 95% confidence intervals shows that the true mean of ad success rate is higher for the treatment group by around 12% "
   ]
  },
  {
   "cell_type": "markdown",
   "metadata": {},
   "source": [
    "# Z Test for the sample that clicked on yes or no at the end of the ad"
   ]
  },
  {
   "cell_type": "markdown",
   "metadata": {},
   "source": [
    "Null hypothesis: There is no significant difference between the questionnaire engagement rate of both groups\n",
    "\n",
    "Alt hypothesis: There is significant difference between the questionnaire engagement rate of both groups"
   ]
  },
  {
   "cell_type": "code",
   "execution_count": 85,
   "metadata": {},
   "outputs": [],
   "source": [
    "control_results = abdata.loc[((abdata['experiment'] == 'control') & (abdata['no_response'] == 0))][['success','no_response']]\n",
    "exp_results = abdata[((abdata['experiment'] == 'exposed')& (abdata['no_response'] == 0))][['success','no_response']]"
   ]
  },
  {
   "cell_type": "code",
   "execution_count": 86,
   "metadata": {},
   "outputs": [
    {
     "name": "stdout",
     "output_type": "stream",
     "text": [
      "<class 'pandas.core.frame.DataFrame'>\n",
      "Int64Index: 657 entries, 2 to 8071\n",
      "Data columns (total 2 columns):\n",
      " #   Column       Non-Null Count  Dtype\n",
      "---  ------       --------------  -----\n",
      " 0   success      657 non-null    int64\n",
      " 1   no_response  657 non-null    int64\n",
      "dtypes: int64(2)\n",
      "memory usage: 15.4 KB\n"
     ]
    }
   ],
   "source": [
    "exp_results.info()"
   ]
  },
  {
   "cell_type": "code",
   "execution_count": 87,
   "metadata": {},
   "outputs": [],
   "source": [
    "n_con = len(control_results)\n",
    "n_exp = len(exp_results)\n",
    "nobs = [n_con, n_exp]"
   ]
  },
  {
   "cell_type": "code",
   "execution_count": 89,
   "metadata": {},
   "outputs": [
    {
     "name": "stdout",
     "output_type": "stream",
     "text": [
      "[586, 657]\n",
      "[264, 308]\n"
     ]
    }
   ],
   "source": [
    "successes = [control_results['success'].sum(), exp_results['success'].sum()]\n",
    "nobs = [n_con, n_exp]\n",
    "print(nobs)\n",
    "print(successes)"
   ]
  },
  {
   "cell_type": "code",
   "execution_count": 90,
   "metadata": {},
   "outputs": [
    {
     "name": "stdout",
     "output_type": "stream",
     "text": [
      "z statistic: -0.65\n",
      "p-value: 0.518\n",
      "ci 95% for control group: [0.410, 0.491]\n",
      "ci 95% for treatment group: [0.431, 0.507]\n"
     ]
    }
   ],
   "source": [
    "z_stat, pval = proportions_ztest(successes, nobs=nobs)\n",
    "(lower_con, lower_exp), (upper_con, upper_exp) = proportion_confint(successes, nobs=nobs, alpha=0.05)\n",
    "\n",
    "print(f'z statistic: {z_stat:.2f}')\n",
    "print(f'p-value: {pval:.3f}')\n",
    "print(f'ci 95% for control group: [{lower_con:.3f}, {upper_con:.3f}]')\n",
    "print(f'ci 95% for treatment group: [{lower_exp:.3f}, {upper_exp:.3f}]')"
   ]
  },
  {
   "cell_type": "markdown",
   "metadata": {},
   "source": [
    "since our p value is greater than 0.05, then we fail to reject the null hypothesis. There is no significant difference in questionnaire engagement between the control group with the dummy ad and the exposed group with the new ad.\n",
    "\n",
    "That means that when filtering out the no response answers. The proportion of users that clicked on yes or no is about the same in both groups. This could be due to the low sample size of users that clicked on yes or no. We only have 586 observations of users that responsed with a yes or no in the control group and 657 in the exposed group "
   ]
  },
  {
   "cell_type": "markdown",
   "metadata": {},
   "source": [
    "## Z test for No Responses \n",
    "\n",
    "Null hypothesis: There is no significant difference between ad disengagement rate between groups\n",
    "\n",
    "Alt hypothesis: There is significant difference between ad disengagement rate between groups"
   ]
  },
  {
   "cell_type": "code",
   "execution_count": 76,
   "metadata": {},
   "outputs": [],
   "source": [
    "control_results = abdata.loc[((abdata['experiment'] == 'control'))][['success','no_response']]\n",
    "exp_results = abdata[((abdata['experiment'] == 'exposed'))][['success','no_response']]"
   ]
  },
  {
   "cell_type": "code",
   "execution_count": 79,
   "metadata": {},
   "outputs": [
    {
     "name": "stdout",
     "output_type": "stream",
     "text": [
      "[4071, 4006]\n",
      "[3485, 3349]\n"
     ]
    }
   ],
   "source": [
    "n_con = len(control_results)\n",
    "n_exp = len(exp_results)\n",
    "nobs = [n_con, n_exp]\n",
    "\n",
    "successes = [control_results['no_response'].sum(), exp_results['no_response'].sum()]\n",
    "print(nobs)\n",
    "print(successes)"
   ]
  },
  {
   "cell_type": "code",
   "execution_count": 80,
   "metadata": {},
   "outputs": [
    {
     "name": "stdout",
     "output_type": "stream",
     "text": [
      "z statistic: 2.50\n",
      "p-value: 0.012\n",
      "ci 95% for control group: [0.845, 0.867]\n",
      "ci 95% for treatment group: [0.825, 0.847]\n"
     ]
    }
   ],
   "source": [
    "z_stat, pval = proportions_ztest(successes, nobs=nobs)\n",
    "(lower_con, lower_exp), (upper_con, upper_exp) = proportion_confint(successes, nobs=nobs, alpha=0.05)\n",
    "\n",
    "print(f'z statistic: {z_stat:.2f}')\n",
    "print(f'p-value: {pval:.3f}')\n",
    "print(f'ci 95% for control group: [{lower_con:.3f}, {upper_con:.3f}]')\n",
    "print(f'ci 95% for treatment group: [{lower_exp:.3f}, {upper_exp:.3f}]')"
   ]
  },
  {
   "cell_type": "markdown",
   "metadata": {},
   "source": [
    "since our p value is less than 0.05, then we reject the null hypothesis. There is a significant difference in questionnaire disengagement rate the control group with the dummy ad and the exposed group with the new ad.\n",
    "\n",
    "That means that our exposed group were less likely to click away from the ad and answer either yes or no at the end of the ad. The difference is slight, but our 95% confidence intervals shows that the true mean of customer disengagement rate is lower for the treatment group by around 2% "
   ]
  },
  {
   "cell_type": "code",
   "execution_count": null,
   "metadata": {},
   "outputs": [],
   "source": []
  }
 ],
 "metadata": {
  "kernelspec": {
   "display_name": "Python 3",
   "language": "python",
   "name": "python3"
  },
  "language_info": {
   "codemirror_mode": {
    "name": "ipython",
    "version": 3
   },
   "file_extension": ".py",
   "mimetype": "text/x-python",
   "name": "python",
   "nbconvert_exporter": "python",
   "pygments_lexer": "ipython3",
   "version": "3.8.5"
  }
 },
 "nbformat": 4,
 "nbformat_minor": 4
}
