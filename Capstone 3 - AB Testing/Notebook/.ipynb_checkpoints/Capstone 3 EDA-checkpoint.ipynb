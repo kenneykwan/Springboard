{
 "cells": [
  {
   "cell_type": "markdown",
   "metadata": {},
   "source": [
    "## Exploratory Data Analysis\n",
    "\n",
    "Now that our data is cleaned. Lets visualize it"
   ]
  },
  {
   "cell_type": "code",
   "execution_count": 54,
   "metadata": {},
   "outputs": [],
   "source": [
    "import pandas as pd\n",
    "import matplotlib.pyplot as plt\n",
    "import seaborn as sns\n",
    "import datetime\n",
    "import plotly\n",
    "import numpy as np"
   ]
  },
  {
   "cell_type": "code",
   "execution_count": 2,
   "metadata": {},
   "outputs": [],
   "source": [
    "abdata = pd.read_csv('../Data/abtesting_cleaned.csv', index_col = 0)"
   ]
  },
  {
   "cell_type": "code",
   "execution_count": 3,
   "metadata": {},
   "outputs": [],
   "source": [
    "#abdata['date'] = pd.to_datetime(abdata['date'])"
   ]
  },
  {
   "cell_type": "code",
   "execution_count": 4,
   "metadata": {},
   "outputs": [
    {
     "name": "stdout",
     "output_type": "stream",
     "text": [
      "<class 'pandas.core.frame.DataFrame'>\n",
      "Index: 8077 entries, 0008ef63-77a7-448b-bd1e-075f42c55e39 to fffbb9ff-568a-41a5-a0c3-6866592f80d8\n",
      "Data columns (total 8 columns):\n",
      " #   Column       Non-Null Count  Dtype \n",
      "---  ------       --------------  ----- \n",
      " 0   experiment   8077 non-null   object\n",
      " 1   date         8077 non-null   object\n",
      " 2   hour         8077 non-null   int64 \n",
      " 3   device_make  8077 non-null   object\n",
      " 4   platform_os  8077 non-null   int64 \n",
      " 5   browser      8077 non-null   object\n",
      " 6   success      8077 non-null   int64 \n",
      " 7   no_reponse   8077 non-null   int64 \n",
      "dtypes: int64(4), object(4)\n",
      "memory usage: 567.9+ KB\n"
     ]
    }
   ],
   "source": [
    "abdata.info()"
   ]
  },
  {
   "cell_type": "code",
   "execution_count": 5,
   "metadata": {},
   "outputs": [
    {
     "data": {
      "text/html": [
       "<div>\n",
       "<style scoped>\n",
       "    .dataframe tbody tr th:only-of-type {\n",
       "        vertical-align: middle;\n",
       "    }\n",
       "\n",
       "    .dataframe tbody tr th {\n",
       "        vertical-align: top;\n",
       "    }\n",
       "\n",
       "    .dataframe thead th {\n",
       "        text-align: right;\n",
       "    }\n",
       "</style>\n",
       "<table border=\"1\" class=\"dataframe\">\n",
       "  <thead>\n",
       "    <tr style=\"text-align: right;\">\n",
       "      <th></th>\n",
       "      <th>experiment</th>\n",
       "      <th>date</th>\n",
       "      <th>hour</th>\n",
       "      <th>device_make</th>\n",
       "      <th>platform_os</th>\n",
       "      <th>browser</th>\n",
       "      <th>success</th>\n",
       "      <th>no_reponse</th>\n",
       "    </tr>\n",
       "    <tr>\n",
       "      <th>auction_id</th>\n",
       "      <th></th>\n",
       "      <th></th>\n",
       "      <th></th>\n",
       "      <th></th>\n",
       "      <th></th>\n",
       "      <th></th>\n",
       "      <th></th>\n",
       "      <th></th>\n",
       "    </tr>\n",
       "  </thead>\n",
       "  <tbody>\n",
       "    <tr>\n",
       "      <th>0008ef63-77a7-448b-bd1e-075f42c55e39</th>\n",
       "      <td>exposed</td>\n",
       "      <td>2020-07-10</td>\n",
       "      <td>8</td>\n",
       "      <td>Generic Smartphone</td>\n",
       "      <td>6</td>\n",
       "      <td>Chrome Mobile</td>\n",
       "      <td>0</td>\n",
       "      <td>1</td>\n",
       "    </tr>\n",
       "    <tr>\n",
       "      <th>000eabc5-17ce-4137-8efe-44734d914446</th>\n",
       "      <td>exposed</td>\n",
       "      <td>2020-07-07</td>\n",
       "      <td>10</td>\n",
       "      <td>Generic Smartphone</td>\n",
       "      <td>6</td>\n",
       "      <td>Chrome Mobile</td>\n",
       "      <td>0</td>\n",
       "      <td>1</td>\n",
       "    </tr>\n",
       "    <tr>\n",
       "      <th>0016d14a-ae18-4a02-a204-6ba53b52f2ed</th>\n",
       "      <td>exposed</td>\n",
       "      <td>2020-07-05</td>\n",
       "      <td>2</td>\n",
       "      <td>E5823</td>\n",
       "      <td>6</td>\n",
       "      <td>Chrome Mobile WebView</td>\n",
       "      <td>0</td>\n",
       "      <td>0</td>\n",
       "    </tr>\n",
       "    <tr>\n",
       "      <th>00187412-2932-4542-a8ef-3633901c98d9</th>\n",
       "      <td>control</td>\n",
       "      <td>2020-07-03</td>\n",
       "      <td>15</td>\n",
       "      <td>Samsung SM-A705FN</td>\n",
       "      <td>6</td>\n",
       "      <td>Facebook</td>\n",
       "      <td>0</td>\n",
       "      <td>1</td>\n",
       "    </tr>\n",
       "    <tr>\n",
       "      <th>001a7785-d3fe-4e11-a344-c8735acacc2c</th>\n",
       "      <td>control</td>\n",
       "      <td>2020-07-03</td>\n",
       "      <td>15</td>\n",
       "      <td>Generic Smartphone</td>\n",
       "      <td>6</td>\n",
       "      <td>Chrome Mobile</td>\n",
       "      <td>0</td>\n",
       "      <td>1</td>\n",
       "    </tr>\n",
       "  </tbody>\n",
       "</table>\n",
       "</div>"
      ],
      "text/plain": [
       "                                     experiment        date  hour  \\\n",
       "auction_id                                                          \n",
       "0008ef63-77a7-448b-bd1e-075f42c55e39    exposed  2020-07-10     8   \n",
       "000eabc5-17ce-4137-8efe-44734d914446    exposed  2020-07-07    10   \n",
       "0016d14a-ae18-4a02-a204-6ba53b52f2ed    exposed  2020-07-05     2   \n",
       "00187412-2932-4542-a8ef-3633901c98d9    control  2020-07-03    15   \n",
       "001a7785-d3fe-4e11-a344-c8735acacc2c    control  2020-07-03    15   \n",
       "\n",
       "                                             device_make  platform_os  \\\n",
       "auction_id                                                              \n",
       "0008ef63-77a7-448b-bd1e-075f42c55e39  Generic Smartphone            6   \n",
       "000eabc5-17ce-4137-8efe-44734d914446  Generic Smartphone            6   \n",
       "0016d14a-ae18-4a02-a204-6ba53b52f2ed               E5823            6   \n",
       "00187412-2932-4542-a8ef-3633901c98d9   Samsung SM-A705FN            6   \n",
       "001a7785-d3fe-4e11-a344-c8735acacc2c  Generic Smartphone            6   \n",
       "\n",
       "                                                    browser  success  \\\n",
       "auction_id                                                             \n",
       "0008ef63-77a7-448b-bd1e-075f42c55e39          Chrome Mobile        0   \n",
       "000eabc5-17ce-4137-8efe-44734d914446          Chrome Mobile        0   \n",
       "0016d14a-ae18-4a02-a204-6ba53b52f2ed  Chrome Mobile WebView        0   \n",
       "00187412-2932-4542-a8ef-3633901c98d9               Facebook        0   \n",
       "001a7785-d3fe-4e11-a344-c8735acacc2c          Chrome Mobile        0   \n",
       "\n",
       "                                      no_reponse  \n",
       "auction_id                                        \n",
       "0008ef63-77a7-448b-bd1e-075f42c55e39           1  \n",
       "000eabc5-17ce-4137-8efe-44734d914446           1  \n",
       "0016d14a-ae18-4a02-a204-6ba53b52f2ed           0  \n",
       "00187412-2932-4542-a8ef-3633901c98d9           1  \n",
       "001a7785-d3fe-4e11-a344-c8735acacc2c           1  "
      ]
     },
     "execution_count": 5,
     "metadata": {},
     "output_type": "execute_result"
    }
   ],
   "source": [
    "abdata.head()"
   ]
  },
  {
   "cell_type": "markdown",
   "metadata": {},
   "source": [
    "Our data tracks user id, which experiemnt they belong in, the hour and date in which they saw the ad, the device they used, platform id, and which browser they used. \n",
    "\n",
    "The success columns tracks if the user click on the yes button after the ad completed. 0 if the user did not response or clicked no, 1 if the user click on yes\n",
    "\n",
    "The no_reponse column tracks if the user did not click on yes or no after the ad completed. 0 if the user clicked on yes or no, 1 if the user neither click yes or no. \n",
    "\n",
    "Possible combination of cases: \n",
    "if success is 0 and no_response is 0 - user clicked on no after the ad\n",
    "\n",
    "if success is 1 and no_response is 0 - user clicked on yes after the ad\n",
    "\n",
    "if success is 0 and no_response is 1 - user neither clicked on yes or no\n",
    "\n",
    "if success is 1 and no_response is 1 - not possible in our implementation."
   ]
  },
  {
   "cell_type": "code",
   "execution_count": 6,
   "metadata": {},
   "outputs": [],
   "source": [
    "#lets look at our experiment and control sample\n",
    "sample_group = pd.DataFrame(abdata['experiment'].value_counts()/len(abdata))"
   ]
  },
  {
   "cell_type": "markdown",
   "metadata": {},
   "source": [
    "our sample is roughly spilt down the middle"
   ]
  },
  {
   "cell_type": "code",
   "execution_count": 7,
   "metadata": {},
   "outputs": [
    {
     "data": {
      "text/html": [
       "<div>\n",
       "<style scoped>\n",
       "    .dataframe tbody tr th:only-of-type {\n",
       "        vertical-align: middle;\n",
       "    }\n",
       "\n",
       "    .dataframe tbody tr th {\n",
       "        vertical-align: top;\n",
       "    }\n",
       "\n",
       "    .dataframe thead th {\n",
       "        text-align: right;\n",
       "    }\n",
       "</style>\n",
       "<table border=\"1\" class=\"dataframe\">\n",
       "  <thead>\n",
       "    <tr style=\"text-align: right;\">\n",
       "      <th></th>\n",
       "      <th>experiment</th>\n",
       "    </tr>\n",
       "  </thead>\n",
       "  <tbody>\n",
       "    <tr>\n",
       "      <th>control</th>\n",
       "      <td>0.504024</td>\n",
       "    </tr>\n",
       "    <tr>\n",
       "      <th>exposed</th>\n",
       "      <td>0.495976</td>\n",
       "    </tr>\n",
       "  </tbody>\n",
       "</table>\n",
       "</div>"
      ],
      "text/plain": [
       "         experiment\n",
       "control    0.504024\n",
       "exposed    0.495976"
      ]
     },
     "execution_count": 7,
     "metadata": {},
     "output_type": "execute_result"
    }
   ],
   "source": [
    "sample_group"
   ]
  },
  {
   "cell_type": "code",
   "execution_count": 8,
   "metadata": {},
   "outputs": [
    {
     "data": {
      "text/plain": [
       "<BarContainer object of 2 artists>"
      ]
     },
     "execution_count": 8,
     "metadata": {},
     "output_type": "execute_result"
    },
    {
     "data": {
      "image/png": "[encoded data removed]",
      "text/plain": [
       "<Figure size 432x288 with 1 Axes>"
      ]
     },
     "metadata": {
      "needs_background": "light"
     },
     "output_type": "display_data"
    }
   ],
   "source": [
    "plt.bar(sample_group.index,sample_group['experiment'])"
   ]
  },
  {
   "cell_type": "code",
   "execution_count": 9,
   "metadata": {},
   "outputs": [
    {
     "data": {
      "text/plain": [
       "2020-07-03    2015\n",
       "2020-07-09    1208\n",
       "2020-07-08    1198\n",
       "2020-07-04     903\n",
       "2020-07-10     893\n",
       "2020-07-05     890\n",
       "2020-07-06     490\n",
       "2020-07-07     480\n",
       "Name: date, dtype: int64"
      ]
     },
     "execution_count": 9,
     "metadata": {},
     "output_type": "execute_result"
    }
   ],
   "source": [
    "#lets look at when people accessed the ad\n",
    "abdata['date'].value_counts()"
   ]
  },
  {
   "cell_type": "code",
   "execution_count": 10,
   "metadata": {},
   "outputs": [
    {
     "data": {
      "text/plain": [
       "15    1895\n",
       "8      394\n",
       "7      381\n",
       "9      346\n",
       "10     336\n",
       "16     335\n",
       "6      327\n",
       "14     319\n",
       "5      302\n",
       "13     290\n",
       "11     282\n",
       "4      281\n",
       "12     278\n",
       "18     273\n",
       "3      266\n",
       "20     264\n",
       "17     263\n",
       "2      230\n",
       "19     227\n",
       "1      222\n",
       "21     206\n",
       "0      194\n",
       "22     135\n",
       "23      31\n",
       "Name: hour, dtype: int64"
      ]
     },
     "execution_count": 10,
     "metadata": {},
     "output_type": "execute_result"
    }
   ],
   "source": [
    "abdata['hour'].value_counts()"
   ]
  },
  {
   "cell_type": "markdown",
   "metadata": {},
   "source": [
    "Looks like most people saw the ad around 3pm and on July 3rd 2020. The data is a little messy and spread out between two columns. Lets merge these and see what our results are."
   ]
  },
  {
   "cell_type": "code",
   "execution_count": 11,
   "metadata": {},
   "outputs": [],
   "source": [
    "#abdata['hour'] = pd.to_datetime(abdata['hour'], format = '%H')"
   ]
  },
  {
   "cell_type": "code",
   "execution_count": 12,
   "metadata": {},
   "outputs": [],
   "source": [
    "abdata['hour'] = abdata['hour'].apply(str)\n",
    "abdata['hour'] = abdata['hour']+':00:00'"
   ]
  },
  {
   "cell_type": "code",
   "execution_count": 13,
   "metadata": {},
   "outputs": [
    {
     "data": {
      "text/html": [
       "<div>\n",
       "<style scoped>\n",
       "    .dataframe tbody tr th:only-of-type {\n",
       "        vertical-align: middle;\n",
       "    }\n",
       "\n",
       "    .dataframe tbody tr th {\n",
       "        vertical-align: top;\n",
       "    }\n",
       "\n",
       "    .dataframe thead th {\n",
       "        text-align: right;\n",
       "    }\n",
       "</style>\n",
       "<table border=\"1\" class=\"dataframe\">\n",
       "  <thead>\n",
       "    <tr style=\"text-align: right;\">\n",
       "      <th></th>\n",
       "      <th>experiment</th>\n",
       "      <th>date</th>\n",
       "      <th>hour</th>\n",
       "      <th>device_make</th>\n",
       "      <th>platform_os</th>\n",
       "      <th>browser</th>\n",
       "      <th>success</th>\n",
       "      <th>no_reponse</th>\n",
       "    </tr>\n",
       "    <tr>\n",
       "      <th>auction_id</th>\n",
       "      <th></th>\n",
       "      <th></th>\n",
       "      <th></th>\n",
       "      <th></th>\n",
       "      <th></th>\n",
       "      <th></th>\n",
       "      <th></th>\n",
       "      <th></th>\n",
       "    </tr>\n",
       "  </thead>\n",
       "  <tbody>\n",
       "    <tr>\n",
       "      <th>0008ef63-77a7-448b-bd1e-075f42c55e39</th>\n",
       "      <td>exposed</td>\n",
       "      <td>2020-07-10</td>\n",
       "      <td>8:00:00</td>\n",
       "      <td>Generic Smartphone</td>\n",
       "      <td>6</td>\n",
       "      <td>Chrome Mobile</td>\n",
       "      <td>0</td>\n",
       "      <td>1</td>\n",
       "    </tr>\n",
       "    <tr>\n",
       "      <th>000eabc5-17ce-4137-8efe-44734d914446</th>\n",
       "      <td>exposed</td>\n",
       "      <td>2020-07-07</td>\n",
       "      <td>10:00:00</td>\n",
       "      <td>Generic Smartphone</td>\n",
       "      <td>6</td>\n",
       "      <td>Chrome Mobile</td>\n",
       "      <td>0</td>\n",
       "      <td>1</td>\n",
       "    </tr>\n",
       "    <tr>\n",
       "      <th>0016d14a-ae18-4a02-a204-6ba53b52f2ed</th>\n",
       "      <td>exposed</td>\n",
       "      <td>2020-07-05</td>\n",
       "      <td>2:00:00</td>\n",
       "      <td>E5823</td>\n",
       "      <td>6</td>\n",
       "      <td>Chrome Mobile WebView</td>\n",
       "      <td>0</td>\n",
       "      <td>0</td>\n",
       "    </tr>\n",
       "    <tr>\n",
       "      <th>00187412-2932-4542-a8ef-3633901c98d9</th>\n",
       "      <td>control</td>\n",
       "      <td>2020-07-03</td>\n",
       "      <td>15:00:00</td>\n",
       "      <td>Samsung SM-A705FN</td>\n",
       "      <td>6</td>\n",
       "      <td>Facebook</td>\n",
       "      <td>0</td>\n",
       "      <td>1</td>\n",
       "    </tr>\n",
       "    <tr>\n",
       "      <th>001a7785-d3fe-4e11-a344-c8735acacc2c</th>\n",
       "      <td>control</td>\n",
       "      <td>2020-07-03</td>\n",
       "      <td>15:00:00</td>\n",
       "      <td>Generic Smartphone</td>\n",
       "      <td>6</td>\n",
       "      <td>Chrome Mobile</td>\n",
       "      <td>0</td>\n",
       "      <td>1</td>\n",
       "    </tr>\n",
       "    <tr>\n",
       "      <th>...</th>\n",
       "      <td>...</td>\n",
       "      <td>...</td>\n",
       "      <td>...</td>\n",
       "      <td>...</td>\n",
       "      <td>...</td>\n",
       "      <td>...</td>\n",
       "      <td>...</td>\n",
       "      <td>...</td>\n",
       "    </tr>\n",
       "    <tr>\n",
       "      <th>ffea24ec-cec1-43fb-b1d1-8f93828c2be2</th>\n",
       "      <td>exposed</td>\n",
       "      <td>2020-07-05</td>\n",
       "      <td>7:00:00</td>\n",
       "      <td>Generic Smartphone</td>\n",
       "      <td>6</td>\n",
       "      <td>Chrome Mobile</td>\n",
       "      <td>0</td>\n",
       "      <td>1</td>\n",
       "    </tr>\n",
       "    <tr>\n",
       "      <th>ffea3210-2c3e-426f-a77d-0aa72e73b20f</th>\n",
       "      <td>control</td>\n",
       "      <td>2020-07-03</td>\n",
       "      <td>15:00:00</td>\n",
       "      <td>Generic Smartphone</td>\n",
       "      <td>6</td>\n",
       "      <td>Chrome Mobile</td>\n",
       "      <td>0</td>\n",
       "      <td>1</td>\n",
       "    </tr>\n",
       "    <tr>\n",
       "      <th>ffeaa0f1-1d72-4ba9-afb4-314b3b00a7c7</th>\n",
       "      <td>control</td>\n",
       "      <td>2020-07-04</td>\n",
       "      <td>9:00:00</td>\n",
       "      <td>Generic Smartphone</td>\n",
       "      <td>6</td>\n",
       "      <td>Chrome Mobile</td>\n",
       "      <td>0</td>\n",
       "      <td>1</td>\n",
       "    </tr>\n",
       "    <tr>\n",
       "      <th>ffeeed62-3f7c-4a6e-8ba7-95d303d40969</th>\n",
       "      <td>exposed</td>\n",
       "      <td>2020-07-05</td>\n",
       "      <td>15:00:00</td>\n",
       "      <td>Samsung SM-A515F</td>\n",
       "      <td>6</td>\n",
       "      <td>Samsung Internet</td>\n",
       "      <td>0</td>\n",
       "      <td>1</td>\n",
       "    </tr>\n",
       "    <tr>\n",
       "      <th>fffbb9ff-568a-41a5-a0c3-6866592f80d8</th>\n",
       "      <td>control</td>\n",
       "      <td>2020-07-10</td>\n",
       "      <td>14:00:00</td>\n",
       "      <td>Samsung SM-G960F</td>\n",
       "      <td>6</td>\n",
       "      <td>Facebook</td>\n",
       "      <td>0</td>\n",
       "      <td>1</td>\n",
       "    </tr>\n",
       "  </tbody>\n",
       "</table>\n",
       "<p>8077 rows × 8 columns</p>\n",
       "</div>"
      ],
      "text/plain": [
       "                                     experiment        date      hour  \\\n",
       "auction_id                                                              \n",
       "0008ef63-77a7-448b-bd1e-075f42c55e39    exposed  2020-07-10   8:00:00   \n",
       "000eabc5-17ce-4137-8efe-44734d914446    exposed  2020-07-07  10:00:00   \n",
       "0016d14a-ae18-4a02-a204-6ba53b52f2ed    exposed  2020-07-05   2:00:00   \n",
       "00187412-2932-4542-a8ef-3633901c98d9    control  2020-07-03  15:00:00   \n",
       "001a7785-d3fe-4e11-a344-c8735acacc2c    control  2020-07-03  15:00:00   \n",
       "...                                         ...         ...       ...   \n",
       "ffea24ec-cec1-43fb-b1d1-8f93828c2be2    exposed  2020-07-05   7:00:00   \n",
       "ffea3210-2c3e-426f-a77d-0aa72e73b20f    control  2020-07-03  15:00:00   \n",
       "ffeaa0f1-1d72-4ba9-afb4-314b3b00a7c7    control  2020-07-04   9:00:00   \n",
       "ffeeed62-3f7c-4a6e-8ba7-95d303d40969    exposed  2020-07-05  15:00:00   \n",
       "fffbb9ff-568a-41a5-a0c3-6866592f80d8    control  2020-07-10  14:00:00   \n",
       "\n",
       "                                             device_make  platform_os  \\\n",
       "auction_id                                                              \n",
       "0008ef63-77a7-448b-bd1e-075f42c55e39  Generic Smartphone            6   \n",
       "000eabc5-17ce-4137-8efe-44734d914446  Generic Smartphone            6   \n",
       "0016d14a-ae18-4a02-a204-6ba53b52f2ed               E5823            6   \n",
       "00187412-2932-4542-a8ef-3633901c98d9   Samsung SM-A705FN            6   \n",
       "001a7785-d3fe-4e11-a344-c8735acacc2c  Generic Smartphone            6   \n",
       "...                                                  ...          ...   \n",
       "ffea24ec-cec1-43fb-b1d1-8f93828c2be2  Generic Smartphone            6   \n",
       "ffea3210-2c3e-426f-a77d-0aa72e73b20f  Generic Smartphone            6   \n",
       "ffeaa0f1-1d72-4ba9-afb4-314b3b00a7c7  Generic Smartphone            6   \n",
       "ffeeed62-3f7c-4a6e-8ba7-95d303d40969    Samsung SM-A515F            6   \n",
       "fffbb9ff-568a-41a5-a0c3-6866592f80d8    Samsung SM-G960F            6   \n",
       "\n",
       "                                                    browser  success  \\\n",
       "auction_id                                                             \n",
       "0008ef63-77a7-448b-bd1e-075f42c55e39          Chrome Mobile        0   \n",
       "000eabc5-17ce-4137-8efe-44734d914446          Chrome Mobile        0   \n",
       "0016d14a-ae18-4a02-a204-6ba53b52f2ed  Chrome Mobile WebView        0   \n",
       "00187412-2932-4542-a8ef-3633901c98d9               Facebook        0   \n",
       "001a7785-d3fe-4e11-a344-c8735acacc2c          Chrome Mobile        0   \n",
       "...                                                     ...      ...   \n",
       "ffea24ec-cec1-43fb-b1d1-8f93828c2be2          Chrome Mobile        0   \n",
       "ffea3210-2c3e-426f-a77d-0aa72e73b20f          Chrome Mobile        0   \n",
       "ffeaa0f1-1d72-4ba9-afb4-314b3b00a7c7          Chrome Mobile        0   \n",
       "ffeeed62-3f7c-4a6e-8ba7-95d303d40969       Samsung Internet        0   \n",
       "fffbb9ff-568a-41a5-a0c3-6866592f80d8               Facebook        0   \n",
       "\n",
       "                                      no_reponse  \n",
       "auction_id                                        \n",
       "0008ef63-77a7-448b-bd1e-075f42c55e39           1  \n",
       "000eabc5-17ce-4137-8efe-44734d914446           1  \n",
       "0016d14a-ae18-4a02-a204-6ba53b52f2ed           0  \n",
       "00187412-2932-4542-a8ef-3633901c98d9           1  \n",
       "001a7785-d3fe-4e11-a344-c8735acacc2c           1  \n",
       "...                                          ...  \n",
       "ffea24ec-cec1-43fb-b1d1-8f93828c2be2           1  \n",
       "ffea3210-2c3e-426f-a77d-0aa72e73b20f           1  \n",
       "ffeaa0f1-1d72-4ba9-afb4-314b3b00a7c7           1  \n",
       "ffeeed62-3f7c-4a6e-8ba7-95d303d40969           1  \n",
       "fffbb9ff-568a-41a5-a0c3-6866592f80d8           1  \n",
       "\n",
       "[8077 rows x 8 columns]"
      ]
     },
     "execution_count": 13,
     "metadata": {},
     "output_type": "execute_result"
    }
   ],
   "source": [
    "abdata"
   ]
  },
  {
   "cell_type": "code",
   "execution_count": 14,
   "metadata": {},
   "outputs": [],
   "source": [
    "abdata['Date'] = abdata['date'].str.cat(abdata['hour'],sep=\" \")"
   ]
  },
  {
   "cell_type": "code",
   "execution_count": 15,
   "metadata": {},
   "outputs": [
    {
     "data": {
      "text/html": [
       "<div>\n",
       "<style scoped>\n",
       "    .dataframe tbody tr th:only-of-type {\n",
       "        vertical-align: middle;\n",
       "    }\n",
       "\n",
       "    .dataframe tbody tr th {\n",
       "        vertical-align: top;\n",
       "    }\n",
       "\n",
       "    .dataframe thead th {\n",
       "        text-align: right;\n",
       "    }\n",
       "</style>\n",
       "<table border=\"1\" class=\"dataframe\">\n",
       "  <thead>\n",
       "    <tr style=\"text-align: right;\">\n",
       "      <th></th>\n",
       "      <th>experiment</th>\n",
       "      <th>date</th>\n",
       "      <th>hour</th>\n",
       "      <th>device_make</th>\n",
       "      <th>platform_os</th>\n",
       "      <th>browser</th>\n",
       "      <th>success</th>\n",
       "      <th>no_reponse</th>\n",
       "      <th>Date</th>\n",
       "    </tr>\n",
       "    <tr>\n",
       "      <th>auction_id</th>\n",
       "      <th></th>\n",
       "      <th></th>\n",
       "      <th></th>\n",
       "      <th></th>\n",
       "      <th></th>\n",
       "      <th></th>\n",
       "      <th></th>\n",
       "      <th></th>\n",
       "      <th></th>\n",
       "    </tr>\n",
       "  </thead>\n",
       "  <tbody>\n",
       "    <tr>\n",
       "      <th>0008ef63-77a7-448b-bd1e-075f42c55e39</th>\n",
       "      <td>exposed</td>\n",
       "      <td>2020-07-10</td>\n",
       "      <td>8:00:00</td>\n",
       "      <td>Generic Smartphone</td>\n",
       "      <td>6</td>\n",
       "      <td>Chrome Mobile</td>\n",
       "      <td>0</td>\n",
       "      <td>1</td>\n",
       "      <td>2020-07-10 8:00:00</td>\n",
       "    </tr>\n",
       "    <tr>\n",
       "      <th>000eabc5-17ce-4137-8efe-44734d914446</th>\n",
       "      <td>exposed</td>\n",
       "      <td>2020-07-07</td>\n",
       "      <td>10:00:00</td>\n",
       "      <td>Generic Smartphone</td>\n",
       "      <td>6</td>\n",
       "      <td>Chrome Mobile</td>\n",
       "      <td>0</td>\n",
       "      <td>1</td>\n",
       "      <td>2020-07-07 10:00:00</td>\n",
       "    </tr>\n",
       "    <tr>\n",
       "      <th>0016d14a-ae18-4a02-a204-6ba53b52f2ed</th>\n",
       "      <td>exposed</td>\n",
       "      <td>2020-07-05</td>\n",
       "      <td>2:00:00</td>\n",
       "      <td>E5823</td>\n",
       "      <td>6</td>\n",
       "      <td>Chrome Mobile WebView</td>\n",
       "      <td>0</td>\n",
       "      <td>0</td>\n",
       "      <td>2020-07-05 2:00:00</td>\n",
       "    </tr>\n",
       "    <tr>\n",
       "      <th>00187412-2932-4542-a8ef-3633901c98d9</th>\n",
       "      <td>control</td>\n",
       "      <td>2020-07-03</td>\n",
       "      <td>15:00:00</td>\n",
       "      <td>Samsung SM-A705FN</td>\n",
       "      <td>6</td>\n",
       "      <td>Facebook</td>\n",
       "      <td>0</td>\n",
       "      <td>1</td>\n",
       "      <td>2020-07-03 15:00:00</td>\n",
       "    </tr>\n",
       "    <tr>\n",
       "      <th>001a7785-d3fe-4e11-a344-c8735acacc2c</th>\n",
       "      <td>control</td>\n",
       "      <td>2020-07-03</td>\n",
       "      <td>15:00:00</td>\n",
       "      <td>Generic Smartphone</td>\n",
       "      <td>6</td>\n",
       "      <td>Chrome Mobile</td>\n",
       "      <td>0</td>\n",
       "      <td>1</td>\n",
       "      <td>2020-07-03 15:00:00</td>\n",
       "    </tr>\n",
       "  </tbody>\n",
       "</table>\n",
       "</div>"
      ],
      "text/plain": [
       "                                     experiment        date      hour  \\\n",
       "auction_id                                                              \n",
       "0008ef63-77a7-448b-bd1e-075f42c55e39    exposed  2020-07-10   8:00:00   \n",
       "000eabc5-17ce-4137-8efe-44734d914446    exposed  2020-07-07  10:00:00   \n",
       "0016d14a-ae18-4a02-a204-6ba53b52f2ed    exposed  2020-07-05   2:00:00   \n",
       "00187412-2932-4542-a8ef-3633901c98d9    control  2020-07-03  15:00:00   \n",
       "001a7785-d3fe-4e11-a344-c8735acacc2c    control  2020-07-03  15:00:00   \n",
       "\n",
       "                                             device_make  platform_os  \\\n",
       "auction_id                                                              \n",
       "0008ef63-77a7-448b-bd1e-075f42c55e39  Generic Smartphone            6   \n",
       "000eabc5-17ce-4137-8efe-44734d914446  Generic Smartphone            6   \n",
       "0016d14a-ae18-4a02-a204-6ba53b52f2ed               E5823            6   \n",
       "00187412-2932-4542-a8ef-3633901c98d9   Samsung SM-A705FN            6   \n",
       "001a7785-d3fe-4e11-a344-c8735acacc2c  Generic Smartphone            6   \n",
       "\n",
       "                                                    browser  success  \\\n",
       "auction_id                                                             \n",
       "0008ef63-77a7-448b-bd1e-075f42c55e39          Chrome Mobile        0   \n",
       "000eabc5-17ce-4137-8efe-44734d914446          Chrome Mobile        0   \n",
       "0016d14a-ae18-4a02-a204-6ba53b52f2ed  Chrome Mobile WebView        0   \n",
       "00187412-2932-4542-a8ef-3633901c98d9               Facebook        0   \n",
       "001a7785-d3fe-4e11-a344-c8735acacc2c          Chrome Mobile        0   \n",
       "\n",
       "                                      no_reponse                 Date  \n",
       "auction_id                                                             \n",
       "0008ef63-77a7-448b-bd1e-075f42c55e39           1   2020-07-10 8:00:00  \n",
       "000eabc5-17ce-4137-8efe-44734d914446           1  2020-07-07 10:00:00  \n",
       "0016d14a-ae18-4a02-a204-6ba53b52f2ed           0   2020-07-05 2:00:00  \n",
       "00187412-2932-4542-a8ef-3633901c98d9           1  2020-07-03 15:00:00  \n",
       "001a7785-d3fe-4e11-a344-c8735acacc2c           1  2020-07-03 15:00:00  "
      ]
     },
     "execution_count": 15,
     "metadata": {},
     "output_type": "execute_result"
    }
   ],
   "source": [
    "abdata.head()"
   ]
  },
  {
   "cell_type": "code",
   "execution_count": 16,
   "metadata": {},
   "outputs": [],
   "source": [
    "abdata['Date'] = pd.to_datetime(abdata['Date'])"
   ]
  },
  {
   "cell_type": "code",
   "execution_count": 17,
   "metadata": {},
   "outputs": [
    {
     "name": "stdout",
     "output_type": "stream",
     "text": [
      "<class 'pandas.core.frame.DataFrame'>\n",
      "Index: 8077 entries, 0008ef63-77a7-448b-bd1e-075f42c55e39 to fffbb9ff-568a-41a5-a0c3-6866592f80d8\n",
      "Data columns (total 9 columns):\n",
      " #   Column       Non-Null Count  Dtype         \n",
      "---  ------       --------------  -----         \n",
      " 0   experiment   8077 non-null   object        \n",
      " 1   date         8077 non-null   object        \n",
      " 2   hour         8077 non-null   object        \n",
      " 3   device_make  8077 non-null   object        \n",
      " 4   platform_os  8077 non-null   int64         \n",
      " 5   browser      8077 non-null   object        \n",
      " 6   success      8077 non-null   int64         \n",
      " 7   no_reponse   8077 non-null   int64         \n",
      " 8   Date         8077 non-null   datetime64[ns]\n",
      "dtypes: datetime64[ns](1), int64(3), object(5)\n",
      "memory usage: 631.0+ KB\n"
     ]
    }
   ],
   "source": [
    "abdata.info()"
   ]
  },
  {
   "cell_type": "code",
   "execution_count": 18,
   "metadata": {},
   "outputs": [
    {
     "data": {
      "text/html": [
       "<div>\n",
       "<style scoped>\n",
       "    .dataframe tbody tr th:only-of-type {\n",
       "        vertical-align: middle;\n",
       "    }\n",
       "\n",
       "    .dataframe tbody tr th {\n",
       "        vertical-align: top;\n",
       "    }\n",
       "\n",
       "    .dataframe thead th {\n",
       "        text-align: right;\n",
       "    }\n",
       "</style>\n",
       "<table border=\"1\" class=\"dataframe\">\n",
       "  <thead>\n",
       "    <tr style=\"text-align: right;\">\n",
       "      <th></th>\n",
       "      <th>Date</th>\n",
       "    </tr>\n",
       "  </thead>\n",
       "  <tbody>\n",
       "    <tr>\n",
       "      <th>2020-07-03 15:00:00</th>\n",
       "      <td>1546</td>\n",
       "    </tr>\n",
       "    <tr>\n",
       "      <th>2020-07-08 20:00:00</th>\n",
       "      <td>126</td>\n",
       "    </tr>\n",
       "    <tr>\n",
       "      <th>2020-07-08 15:00:00</th>\n",
       "      <td>125</td>\n",
       "    </tr>\n",
       "    <tr>\n",
       "      <th>2020-07-08 18:00:00</th>\n",
       "      <td>116</td>\n",
       "    </tr>\n",
       "    <tr>\n",
       "      <th>2020-07-08 16:00:00</th>\n",
       "      <td>115</td>\n",
       "    </tr>\n",
       "    <tr>\n",
       "      <th>...</th>\n",
       "      <td>...</td>\n",
       "    </tr>\n",
       "    <tr>\n",
       "      <th>2020-07-07 23:00:00</th>\n",
       "      <td>2</td>\n",
       "    </tr>\n",
       "    <tr>\n",
       "      <th>2020-07-05 23:00:00</th>\n",
       "      <td>2</td>\n",
       "    </tr>\n",
       "    <tr>\n",
       "      <th>2020-07-03 21:00:00</th>\n",
       "      <td>1</td>\n",
       "    </tr>\n",
       "    <tr>\n",
       "      <th>2020-07-03 19:00:00</th>\n",
       "      <td>1</td>\n",
       "    </tr>\n",
       "    <tr>\n",
       "      <th>2020-07-06 22:00:00</th>\n",
       "      <td>1</td>\n",
       "    </tr>\n",
       "  </tbody>\n",
       "</table>\n",
       "<p>168 rows × 1 columns</p>\n",
       "</div>"
      ],
      "text/plain": [
       "                     Date\n",
       "2020-07-03 15:00:00  1546\n",
       "2020-07-08 20:00:00   126\n",
       "2020-07-08 15:00:00   125\n",
       "2020-07-08 18:00:00   116\n",
       "2020-07-08 16:00:00   115\n",
       "...                   ...\n",
       "2020-07-07 23:00:00     2\n",
       "2020-07-05 23:00:00     2\n",
       "2020-07-03 21:00:00     1\n",
       "2020-07-03 19:00:00     1\n",
       "2020-07-06 22:00:00     1\n",
       "\n",
       "[168 rows x 1 columns]"
      ]
     },
     "execution_count": 18,
     "metadata": {},
     "output_type": "execute_result"
    }
   ],
   "source": [
    "pd.DataFrame(abdata['Date'].value_counts())"
   ]
  },
  {
   "cell_type": "markdown",
   "metadata": {},
   "source": [
    "Our suspicions were correct. Most users accessed the ad on July 3rd at 3pm."
   ]
  },
  {
   "cell_type": "code",
   "execution_count": 19,
   "metadata": {},
   "outputs": [
    {
     "data": {
      "text/plain": [
       "experiment  success\n",
       "control     0          3807\n",
       "            1           264\n",
       "exposed     0          3698\n",
       "            1           308\n",
       "Name: success, dtype: int64"
      ]
     },
     "execution_count": 19,
     "metadata": {},
     "output_type": "execute_result"
    }
   ],
   "source": [
    "abdata.groupby('experiment')['success'].value_counts()"
   ]
  },
  {
   "cell_type": "code",
   "execution_count": 29,
   "metadata": {
    "scrolled": false
   },
   "outputs": [
    {
     "name": "stdout",
     "output_type": "stream",
     "text": [
      "<class 'pandas.core.frame.DataFrame'>\n",
      "MultiIndex: 4 entries, ('control', 0) to ('exposed', 1)\n",
      "Data columns (total 1 columns):\n",
      " #   Column   Non-Null Count  Dtype\n",
      "---  ------   --------------  -----\n",
      " 0   success  4 non-null      int64\n",
      "dtypes: int64(1)\n",
      "memory usage: 187.0+ bytes\n"
     ]
    }
   ],
   "source": [
    "success_data = pd.DataFrame(abdata.groupby('experiment')['success'].value_counts())\n",
    "success_data.info()"
   ]
  },
  {
   "cell_type": "code",
   "execution_count": 34,
   "metadata": {},
   "outputs": [
    {
     "data": {
      "text/plain": [
       "MultiIndex([('control', 0),\n",
       "            ('control', 1),\n",
       "            ('exposed', 0),\n",
       "            ('exposed', 1)],\n",
       "           names=['experiment', 'success'])"
      ]
     },
     "execution_count": 34,
     "metadata": {},
     "output_type": "execute_result"
    }
   ],
   "source": [
    "success_data.index"
   ]
  },
  {
   "cell_type": "code",
   "execution_count": 68,
   "metadata": {},
   "outputs": [],
   "source": [
    "success_data.index.set_levels(['b1','c1','f1','d1'],level=1,inplace=True)"
   ]
  },
  {
   "cell_type": "code",
   "execution_count": null,
   "metadata": {},
   "outputs": [],
   "source": []
  },
  {
   "cell_type": "code",
   "execution_count": 67,
   "metadata": {},
   "outputs": [
    {
     "data": {
      "image/png": "[encoded data removed]",
      "text/plain": [
       "<Figure size 576x432 with 1 Axes>"
      ]
     },
     "metadata": {
      "needs_background": "light"
     },
     "output_type": "display_data"
    }
   ],
   "source": [
    "ax = success_data.unstack().plot(kind='bar',figsize=(8, 6), rot = 0)\n",
    "\n",
    "for p in ax.patches:\n",
    "    height = p.get_height()\n",
    "    ax.text(p.get_x() + p.get_width()/2., height +.01,\n",
    "            '%i' %float(height),\n",
    "            ha='center', va='bottom')\n",
    "#sns.barplot(x= success_data.index, y=success_data['success'].value_counts(), data=success_data)"
   ]
  },
  {
   "cell_type": "code",
   "execution_count": 22,
   "metadata": {},
   "outputs": [
    {
     "data": {
      "text/plain": [
       "<AxesSubplot:xlabel='experiment', ylabel='success'>"
      ]
     },
     "execution_count": 22,
     "metadata": {},
     "output_type": "execute_result"
    },
    {
     "data": {
      "image/png": "[encoded data removed]",
      "text/plain": [
       "<Figure size 432x288 with 1 Axes>"
      ]
     },
     "metadata": {
      "needs_background": "light"
     },
     "output_type": "display_data"
    }
   ],
   "source": [
    "sns.barplot(data= abdata, x = 'experiment', y = 'success')"
   ]
  },
  {
   "cell_type": "code",
   "execution_count": null,
   "metadata": {},
   "outputs": [],
   "source": []
  }
 ],
 "metadata": {
  "kernelspec": {
   "display_name": "Python 3",
   "language": "python",
   "name": "python3"
  },
  "language_info": {
   "codemirror_mode": {
    "name": "ipython",
    "version": 3
   },
   "file_extension": ".py",
   "mimetype": "text/x-python",
   "name": "python",
   "nbconvert_exporter": "python",
   "pygments_lexer": "ipython3",
   "version": "3.8.5"
  }
 },
 "nbformat": 4,
 "nbformat_minor": 4
}
