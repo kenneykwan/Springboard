{
 "cells": [
  {
   "cell_type": "code",
   "execution_count": 1,
   "metadata": {},
   "outputs": [],
   "source": [
    "#import libraries\n",
    "import pandas as pd\n",
    "import numpy as np\n",
    "import matplotlib.pyplot as plt\n",
    "import seaborn as sns\n",
    "from sklearn.linear_model import LinearRegression\n",
    "from sklearn.model_selection import train_test_split\n",
    "from sklearn.metrics import mean_squared_error\n",
    "from sklearn.metrics import mean_absolute_error\n",
    "from sklearn.model_selection import TimeSeriesSplit"
   ]
  },
  {
   "cell_type": "code",
   "execution_count": 2,
   "metadata": {},
   "outputs": [],
   "source": [
    "#Run a linear regression model on PCA_Dataset_With_Mean and GoogleTrendsTimelineCleaned\n",
    "#load data\n",
    "pca_dataset = pd.read_csv('../Data/PCA_Dataset_With_Mean.csv',index_col = 0)\n",
    "gtrends = pd.read_csv('../Data/GoogleTrendsCleaned.csv', index_col=0)"
   ]
  },
  {
   "cell_type": "code",
   "execution_count": 3,
   "metadata": {},
   "outputs": [],
   "source": [
    "pca_dataset.index = pd.to_datetime(pca_dataset.index)\n",
    "gtrends.index = pd.to_datetime(gtrends.index)\n"
   ]
  },
  {
   "cell_type": "code",
   "execution_count": 4,
   "metadata": {},
   "outputs": [
    {
     "data": {
      "text/html": [
       "<div>\n",
       "<style scoped>\n",
       "    .dataframe tbody tr th:only-of-type {\n",
       "        vertical-align: middle;\n",
       "    }\n",
       "\n",
       "    .dataframe tbody tr th {\n",
       "        vertical-align: top;\n",
       "    }\n",
       "\n",
       "    .dataframe thead th {\n",
       "        text-align: right;\n",
       "    }\n",
       "</style>\n",
       "<table border=\"1\" class=\"dataframe\">\n",
       "  <thead>\n",
       "    <tr style=\"text-align: right;\">\n",
       "      <th></th>\n",
       "      <th>PCA_mean</th>\n",
       "    </tr>\n",
       "    <tr>\n",
       "      <th>Date</th>\n",
       "      <th></th>\n",
       "    </tr>\n",
       "  </thead>\n",
       "  <tbody>\n",
       "    <tr>\n",
       "      <th>2018-10-07</th>\n",
       "      <td>1.254750</td>\n",
       "    </tr>\n",
       "    <tr>\n",
       "      <th>2018-10-14</th>\n",
       "      <td>2.054040</td>\n",
       "    </tr>\n",
       "    <tr>\n",
       "      <th>2018-10-21</th>\n",
       "      <td>1.407196</td>\n",
       "    </tr>\n",
       "    <tr>\n",
       "      <th>2018-10-28</th>\n",
       "      <td>0.951141</td>\n",
       "    </tr>\n",
       "    <tr>\n",
       "      <th>2018-11-04</th>\n",
       "      <td>1.020075</td>\n",
       "    </tr>\n",
       "    <tr>\n",
       "      <th>...</th>\n",
       "      <td>...</td>\n",
       "    </tr>\n",
       "    <tr>\n",
       "      <th>2021-06-27</th>\n",
       "      <td>1.845474</td>\n",
       "    </tr>\n",
       "    <tr>\n",
       "      <th>2021-07-04</th>\n",
       "      <td>1.763994</td>\n",
       "    </tr>\n",
       "    <tr>\n",
       "      <th>2021-07-11</th>\n",
       "      <td>1.498085</td>\n",
       "    </tr>\n",
       "    <tr>\n",
       "      <th>2021-07-18</th>\n",
       "      <td>1.488697</td>\n",
       "    </tr>\n",
       "    <tr>\n",
       "      <th>2021-07-25</th>\n",
       "      <td>1.807419</td>\n",
       "    </tr>\n",
       "  </tbody>\n",
       "</table>\n",
       "<p>147 rows × 1 columns</p>\n",
       "</div>"
      ],
      "text/plain": [
       "            PCA_mean\n",
       "Date                \n",
       "2018-10-07  1.254750\n",
       "2018-10-14  2.054040\n",
       "2018-10-21  1.407196\n",
       "2018-10-28  0.951141\n",
       "2018-11-04  1.020075\n",
       "...              ...\n",
       "2021-06-27  1.845474\n",
       "2021-07-04  1.763994\n",
       "2021-07-11  1.498085\n",
       "2021-07-18  1.488697\n",
       "2021-07-25  1.807419\n",
       "\n",
       "[147 rows x 1 columns]"
      ]
     },
     "execution_count": 4,
     "metadata": {},
     "output_type": "execute_result"
    }
   ],
   "source": [
    "pca_dataset = pd.DataFrame(pca_dataset['PCA_mean'])\n",
    "pca_dataset"
   ]
  },
  {
   "cell_type": "code",
   "execution_count": 5,
   "metadata": {},
   "outputs": [],
   "source": [
    "gtrends.index.rename('Date', inplace = True)"
   ]
  },
  {
   "cell_type": "code",
   "execution_count": 6,
   "metadata": {
    "scrolled": false
   },
   "outputs": [
    {
     "data": {
      "text/plain": [
       "[Text(0, 0.5, 'Cryptocurrency_gs'),\n",
       " Text(0, 1.5, 'Bitcoin_gs'),\n",
       " Text(0, 2.5, 'Ethereum_gs'),\n",
       " Text(0, 3.5, 'XRP_gs'),\n",
       " Text(0, 4.5, 'Dogecoin_gs')]"
      ]
     },
     "execution_count": 6,
     "metadata": {},
     "output_type": "execute_result"
    },
    {
     "data": {
      "image/png": "[encoded data removed]",
      "text/plain": [
       "<Figure size 432x288 with 2 Axes>"
      ]
     },
     "metadata": {
      "needs_background": "light"
     },
     "output_type": "display_data"
    }
   ],
   "source": [
    "#Check for colinearity in google trends dataset\n",
    "\n",
    "corr = gtrends.corr()\n",
    "ax = sns.heatmap(\n",
    "    corr, \n",
    "    vmin=-1, vmax=1, center=0,\n",
    "    cmap=sns.diverging_palette(20, 220, n=200),\n",
    "    square=True,\n",
    "    annot=True\n",
    ")\n",
    "ax.set_xticklabels(\n",
    "    ax.get_xticklabels(),\n",
    "    rotation=20)\n",
    "ax.set_yticklabels(ax.get_yticklabels(), rotation =0)"
   ]
  },
  {
   "cell_type": "code",
   "execution_count": 7,
   "metadata": {},
   "outputs": [],
   "source": [
    "#This data is highly correlated. We need to decorrelate these columns. "
   ]
  },
  {
   "cell_type": "code",
   "execution_count": 8,
   "metadata": {},
   "outputs": [],
   "source": [
    "gtrends.drop('Cryptocurrency_gs', axis = 1, inplace = True)\n",
    "\n",
    "gtrends['Ether_Doge_gs'] = (gtrends['Ethereum_gs'] + gtrends['Dogecoin_gs'])/2\n",
    "gtrends.drop(['Ethereum_gs','Dogecoin_gs'],axis = 1, inplace = True)"
   ]
  },
  {
   "cell_type": "code",
   "execution_count": 9,
   "metadata": {
    "scrolled": false
   },
   "outputs": [
    {
     "data": {
      "text/plain": [
       "[Text(0, 0.5, 'Bitcoin_gs'),\n",
       " Text(0, 1.5, 'XRP_gs'),\n",
       " Text(0, 2.5, 'Ether_Doge_gs')]"
      ]
     },
     "execution_count": 9,
     "metadata": {},
     "output_type": "execute_result"
    },
    {
     "data": {
      "image/png": "[encoded data removed]",
      "text/plain": [
       "<Figure size 432x288 with 2 Axes>"
      ]
     },
     "metadata": {
      "needs_background": "light"
     },
     "output_type": "display_data"
    }
   ],
   "source": [
    "corr = gtrends.corr()\n",
    "ax = sns.heatmap(\n",
    "    corr, \n",
    "    vmin=-1, vmax=1, center=0,\n",
    "    cmap=sns.diverging_palette(20, 220, n=200),\n",
    "    square=True,\n",
    "    annot=True\n",
    ")\n",
    "ax.set_xticklabels(\n",
    "    ax.get_xticklabels(),\n",
    "    rotation=20)\n",
    "ax.set_yticklabels(ax.get_yticklabels(), rotation =0)"
   ]
  },
  {
   "cell_type": "code",
   "execution_count": 10,
   "metadata": {},
   "outputs": [],
   "source": [
    "trends_price = gtrends.merge(pca_dataset, on='Date', left_index = True)"
   ]
  },
  {
   "cell_type": "code",
   "execution_count": 11,
   "metadata": {
    "scrolled": false
   },
   "outputs": [
    {
     "data": {
      "image/png": "[encoded data removed]",
      "text/plain": [
       "<Figure size 1080x720 with 1 Axes>"
      ]
     },
     "metadata": {},
     "output_type": "display_data"
    }
   ],
   "source": [
    "sns.set(rc={'figure.figsize':(15,10)})\n",
    "sns.scatterplot(x=trends_price['Bitcoin_gs'],y=trends_price['PCA_mean'])\n",
    "sns.scatterplot(x=trends_price['XRP_gs'],y=trends_price['PCA_mean'])\n",
    "sns.scatterplot(x=trends_price['Ether_Doge_gs'],y=trends_price['PCA_mean'])\n",
    "plt.legend(labels=['Bitcoin_gs', 'XRP_gs' ,'Ether_Doge_gs'])\n",
    "plt.show()"
   ]
  },
  {
   "cell_type": "code",
   "execution_count": 12,
   "metadata": {},
   "outputs": [
    {
     "name": "stdout",
     "output_type": "stream",
     "text": [
      "<class 'pandas.core.frame.DataFrame'>\n",
      "DatetimeIndex: 147 entries, 2018-10-07 to 2021-07-25\n",
      "Data columns (total 4 columns):\n",
      " #   Column         Non-Null Count  Dtype  \n",
      "---  ------         --------------  -----  \n",
      " 0   Bitcoin_gs     147 non-null    int64  \n",
      " 1   XRP_gs         147 non-null    int64  \n",
      " 2   Ether_Doge_gs  147 non-null    float64\n",
      " 3   PCA_mean       147 non-null    float64\n",
      "dtypes: float64(2), int64(2)\n",
      "memory usage: 5.7 KB\n"
     ]
    }
   ],
   "source": [
    "trends_price.info()"
   ]
  },
  {
   "cell_type": "code",
   "execution_count": 13,
   "metadata": {
    "scrolled": false
   },
   "outputs": [
    {
     "name": "stdout",
     "output_type": "stream",
     "text": [
      "rsq: [0.146, 0.142, 0.249]  \n",
      "Mean rsq: 0.179\n",
      "\n",
      "train MSE: [0.154, 0.16, 0.124] \n",
      "Mean Train MSE: 0.146\n",
      "\n",
      "Mean Test MSE: 17.922\n"
     ]
    }
   ],
   "source": [
    "#Create Manual Cross Validate Train Test Spilt\n",
    "crossval_rsq = []\n",
    "crossval_train_MSE = []\n",
    "crossval_test_MSE = []\n",
    "splits = [.25, .50 ,.75]\n",
    "\n",
    "X = trends_price.drop('PCA_mean',axis = 1)\n",
    "y = trends_price['PCA_mean']\n",
    "\n",
    "for size in splits:\n",
    "    #length of train and test split\n",
    "    train_split = int(len(trends_price )* size)  \n",
    "    test_split = int(len(trends_price)*(size + .25)) \n",
    "    \n",
    "    #create training and test set\n",
    "    X_train = X.iloc[:train_split]\n",
    "    X_test = X.iloc[train_split:test_split]\n",
    "    y_train = y.iloc[:train_split]\n",
    "    y_test = y.iloc[train_split:test_split]\n",
    "    \n",
    "    #fit the regression on training set\n",
    "    reg = LinearRegression()\n",
    "    reg.fit(X_train,y_train)\n",
    "    \n",
    "    #predict on training and test set to compare MSE\n",
    "    y_pred_test=reg.predict(X_test)\n",
    "    y_pred_train = reg.predict(X_train)\n",
    "    \n",
    "    #append scores to a list\n",
    "    crossval_rsq.append(round(reg.score(X_train, y_train),3))\n",
    "    crossval_train_MSE.append(round(mean_squared_error(y_train, y_pred_train),3))\n",
    "    crossval_test_MSE.append(round(mean_squared_error(y_test, y_pred_test),3))\n",
    "    \n",
    "print('rsq: {}  \\nMean rsq: {:.3f}'.format(crossval_rsq, np.mean(crossval_rsq)))\n",
    "print('\\ntrain MSE: {} \\nMean Train MSE: {:.3f}'.format(crossval_train_MSE, np.mean(crossval_train_MSE)))\n",
    "print('\\nMean Test MSE: {:.3f}'.format(np.mean(crossval_test_MSE)))"
   ]
  },
  {
   "cell_type": "code",
   "execution_count": 14,
   "metadata": {},
   "outputs": [
    {
     "name": "stdout",
     "output_type": "stream",
     "text": [
      "rsq: [0.2, 0.143, 0.252]  \n",
      "Mean rsq: 0.198\n",
      "\n",
      "train MSE: [0.147, 0.157, 0.123] \n",
      "Mean Train MSE: 0.142\n",
      "\n",
      "Mean Test MSE: 19.320\n"
     ]
    }
   ],
   "source": [
    "#Test results using Timeseriessplit\n",
    "crossval_rsq = []\n",
    "crossval_train_MSE = []\n",
    "crossval_test_MSE= []\n",
    "\n",
    "X = trends_price.drop('PCA_mean',axis = 1)\n",
    "y = trends_price['PCA_mean']\n",
    "\n",
    "tss = TimeSeriesSplit(n_splits = 3)\n",
    "\n",
    "for train_index, test_index in tss.split(X):\n",
    "    #create training and test set\n",
    "    X_train = X.iloc[train_index]\n",
    "    X_test = X.iloc[test_index]\n",
    "    y_train, y_test = y.iloc[train_index], y.iloc[test_index]\n",
    "    \n",
    "    #fit the regressor\n",
    "    reg = LinearRegression()\n",
    "    reg.fit(X_train,y_train)\n",
    "    \n",
    "    #predict on test and training set\n",
    "    y_pred_test=   reg.predict(X_test)\n",
    "    y_pred_train = reg.predict(X_train)\n",
    "    \n",
    "    #append scores to list+\n",
    "    crossval_rsq.append(round(reg.score(X_train, y_train),3))\n",
    "    crossval_train_MSE.append(round(mean_squared_error(y_train, y_pred_train),3))\n",
    "    crossval_test_MSE.append(round(mean_squared_error(y_test, y_pred_test),3))\n",
    "    \n",
    "print('rsq: {}  \\nMean rsq: {:.3f}'.format(crossval_rsq, np.mean(crossval_rsq)))\n",
    "print('\\ntrain MSE: {} \\nMean Train MSE: {:.3f}'.format(crossval_train_MSE, np.mean(crossval_train_MSE)))\n",
    "print('\\nMean Test MSE: {:.3f}'.format(np.mean(crossval_test_MSE)))\n",
    "    "
   ]
  },
  {
   "cell_type": "markdown",
   "metadata": {},
   "source": [
    "Crossvalidation scores for each method are roughly similar. We can use our TimeSeriesSplit cross validation results for our analysis "
   ]
  },
  {
   "cell_type": "markdown",
   "metadata": {},
   "source": [
    "Our model is roughly 20% accurate. \n",
    "With a mean MSE of 0.14 on the training set and a mean MSE of 19 on the test set. Our model is predicting poorly on the test set as the variance of our MSE is huge. "
   ]
  },
  {
   "cell_type": "code",
   "execution_count": 15,
   "metadata": {},
   "outputs": [],
   "source": [
    "#Stats Model\n",
    "import statsmodels.api as sm\n",
    "\n",
    "X2 = sm.add_constant(X)\n",
    "\n",
    "regstats = sm.OLS(y,X2)\n",
    "stats= regstats.fit()\n",
    "pred = stats.predict()"
   ]
  },
  {
   "cell_type": "code",
   "execution_count": 16,
   "metadata": {},
   "outputs": [
    {
     "data": {
      "text/html": [
       "<table class=\"simpletable\">\n",
       "<caption>OLS Regression Results</caption>\n",
       "<tr>\n",
       "  <th>Dep. Variable:</th>        <td>PCA_mean</td>     <th>  R-squared:         </th> <td>   0.604</td>\n",
       "</tr>\n",
       "<tr>\n",
       "  <th>Model:</th>                   <td>OLS</td>       <th>  Adj. R-squared:    </th> <td>   0.596</td>\n",
       "</tr>\n",
       "<tr>\n",
       "  <th>Method:</th>             <td>Least Squares</td>  <th>  F-statistic:       </th> <td>   72.65</td>\n",
       "</tr>\n",
       "<tr>\n",
       "  <th>Date:</th>             <td>Thu, 02 Sep 2021</td> <th>  Prob (F-statistic):</th> <td>1.32e-28</td>\n",
       "</tr>\n",
       "<tr>\n",
       "  <th>Time:</th>                 <td>12:47:54</td>     <th>  Log-Likelihood:    </th> <td> -112.44</td>\n",
       "</tr>\n",
       "<tr>\n",
       "  <th>No. Observations:</th>      <td>   147</td>      <th>  AIC:               </th> <td>   232.9</td>\n",
       "</tr>\n",
       "<tr>\n",
       "  <th>Df Residuals:</th>          <td>   143</td>      <th>  BIC:               </th> <td>   244.8</td>\n",
       "</tr>\n",
       "<tr>\n",
       "  <th>Df Model:</th>              <td>     3</td>      <th>                     </th>     <td> </td>   \n",
       "</tr>\n",
       "<tr>\n",
       "  <th>Covariance Type:</th>      <td>nonrobust</td>    <th>                     </th>     <td> </td>   \n",
       "</tr>\n",
       "</table>\n",
       "<table class=\"simpletable\">\n",
       "<tr>\n",
       "        <td></td>           <th>coef</th>     <th>std err</th>      <th>t</th>      <th>P>|t|</th>  <th>[0.025</th>    <th>0.975]</th>  \n",
       "</tr>\n",
       "<tr>\n",
       "  <th>const</th>         <td>    0.9466</td> <td>    0.072</td> <td>   13.184</td> <td> 0.000</td> <td>    0.805</td> <td>    1.089</td>\n",
       "</tr>\n",
       "<tr>\n",
       "  <th>Bitcoin_gs</th>    <td>   -0.0059</td> <td>    0.003</td> <td>   -1.717</td> <td> 0.088</td> <td>   -0.013</td> <td>    0.001</td>\n",
       "</tr>\n",
       "<tr>\n",
       "  <th>XRP_gs</th>        <td>    0.0524</td> <td>    0.053</td> <td>    0.980</td> <td> 0.329</td> <td>   -0.053</td> <td>    0.158</td>\n",
       "</tr>\n",
       "<tr>\n",
       "  <th>Ether_Doge_gs</th> <td>    0.1368</td> <td>    0.015</td> <td>    9.109</td> <td> 0.000</td> <td>    0.107</td> <td>    0.167</td>\n",
       "</tr>\n",
       "</table>\n",
       "<table class=\"simpletable\">\n",
       "<tr>\n",
       "  <th>Omnibus:</th>       <td> 7.329</td> <th>  Durbin-Watson:     </th> <td>   0.474</td>\n",
       "</tr>\n",
       "<tr>\n",
       "  <th>Prob(Omnibus):</th> <td> 0.026</td> <th>  Jarque-Bera (JB):  </th> <td>  12.292</td>\n",
       "</tr>\n",
       "<tr>\n",
       "  <th>Skew:</th>          <td> 0.143</td> <th>  Prob(JB):          </th> <td> 0.00214</td>\n",
       "</tr>\n",
       "<tr>\n",
       "  <th>Kurtosis:</th>      <td> 4.387</td> <th>  Cond. No.          </th> <td>    45.2</td>\n",
       "</tr>\n",
       "</table><br/><br/>Notes:<br/>[1] Standard Errors assume that the covariance matrix of the errors is correctly specified."
      ],
      "text/plain": [
       "<class 'statsmodels.iolib.summary.Summary'>\n",
       "\"\"\"\n",
       "                            OLS Regression Results                            \n",
       "==============================================================================\n",
       "Dep. Variable:               PCA_mean   R-squared:                       0.604\n",
       "Model:                            OLS   Adj. R-squared:                  0.596\n",
       "Method:                 Least Squares   F-statistic:                     72.65\n",
       "Date:                Thu, 02 Sep 2021   Prob (F-statistic):           1.32e-28\n",
       "Time:                        12:47:54   Log-Likelihood:                -112.44\n",
       "No. Observations:                 147   AIC:                             232.9\n",
       "Df Residuals:                     143   BIC:                             244.8\n",
       "Df Model:                           3                                         \n",
       "Covariance Type:            nonrobust                                         \n",
       "=================================================================================\n",
       "                    coef    std err          t      P>|t|      [0.025      0.975]\n",
       "---------------------------------------------------------------------------------\n",
       "const             0.9466      0.072     13.184      0.000       0.805       1.089\n",
       "Bitcoin_gs       -0.0059      0.003     -1.717      0.088      -0.013       0.001\n",
       "XRP_gs            0.0524      0.053      0.980      0.329      -0.053       0.158\n",
       "Ether_Doge_gs     0.1368      0.015      9.109      0.000       0.107       0.167\n",
       "==============================================================================\n",
       "Omnibus:                        7.329   Durbin-Watson:                   0.474\n",
       "Prob(Omnibus):                  0.026   Jarque-Bera (JB):               12.292\n",
       "Skew:                           0.143   Prob(JB):                      0.00214\n",
       "Kurtosis:                       4.387   Cond. No.                         45.2\n",
       "==============================================================================\n",
       "\n",
       "Notes:\n",
       "[1] Standard Errors assume that the covariance matrix of the errors is correctly specified.\n",
       "\"\"\""
      ]
     },
     "execution_count": 16,
     "metadata": {},
     "output_type": "execute_result"
    }
   ],
   "source": [
    "stats.summary()"
   ]
  },
  {
   "cell_type": "markdown",
   "metadata": {},
   "source": [
    "## Model 2 - Random Forest with GridSearchCV"
   ]
  },
  {
   "cell_type": "code",
   "execution_count": 17,
   "metadata": {
    "scrolled": false
   },
   "outputs": [
    {
     "name": "stdout",
     "output_type": "stream",
     "text": [
      "{'randomforestregressor__max_features': 'sqrt', 'randomforestregressor__n_estimators': 13}\n",
      "rsq: [0.48, 0.352, 0.459]  \n",
      "Mean rsq: 0.430\n",
      "\n",
      "train MSE: [0.094, 0.121, 0.089] \n",
      "Mean Train MSE: 0.101\n",
      "\n",
      "Mean Test MSE: 1.158\n"
     ]
    }
   ],
   "source": [
    "from sklearn.ensemble import RandomForestRegressor\n",
    "from sklearn.model_selection import GridSearchCV\n",
    "from sklearn.pipeline import make_pipeline\n",
    "\n",
    "#Remake X, y test spilt based on all Google trends\n",
    "X = trends_price.drop('PCA_mean',axis =1)\n",
    "y = trends_price['PCA_mean']\n",
    "\n",
    "#Make a rolling training set and test set and cross validate manually\n",
    "crossval_rsq_rf = []\n",
    "crossval_train_MSE_rf = []\n",
    "crossval_test_MSE_rf = []\n",
    "\n",
    "cv = []\n",
    "\n",
    "rf_pipe = make_pipeline(\n",
    "RandomForestRegressor())\n",
    "\n",
    "max_features = ['auto', 'sqrt']\n",
    "n_est = np.arange(start = 1, stop = 100, step = 2)\n",
    "\n",
    "grid_params = {\n",
    "    'randomforestregressor__n_estimators': n_est,\n",
    "    'randomforestregressor__max_features':max_features\n",
    "}\n",
    "\n",
    "#Create the cv indices\n",
    "for size in splits:\n",
    "    train_split = int(len(trends_price )* size)  \n",
    "    test_split = int(len(trends_price)*(size + .25)) \n",
    "    \n",
    "    cv.append((np.arange(train_split),np.arange(train_split,test_split)))\n",
    "\n",
    "#Use Gridsearchcv on custom cv splits    \n",
    "rf_grid = GridSearchCV(rf_pipe, param_grid=grid_params, cv = cv, n_jobs=-1)    \n",
    "rf_grid.fit(X,y)\n",
    "\n",
    "print(rf_grid.best_params_)\n",
    "\n",
    "#Use best estimator model\n",
    "rf_model = rf_grid.best_estimator_\n",
    "\n",
    "#Fit model on the training and test set with best parameters\n",
    "for train,test in cv:\n",
    "\n",
    "    X_train = X.iloc[train]\n",
    "    X_test = X.iloc[test]\n",
    "    \n",
    "    y_train = y.iloc[train]\n",
    "    y_test = y.iloc[test]\n",
    "\n",
    "    rf_model.fit(X_train, y_train)\n",
    "    #predict on train and test set\n",
    "    y_pred_train = rf_model.predict(X_train) \n",
    "    y_pred_test = rf_model.predict(X_test) \n",
    "    \n",
    "    crossval_rsq_rf.append(round(rf_model.score(X_train, y_train),3))\n",
    "    crossval_train_MSE_rf.append(round(mean_squared_error(y_train, y_pred_train),3))\n",
    "    crossval_test_MSE_rf.append(round(mean_squared_error(y_test, y_pred_test),3))\n",
    "\n",
    "\n",
    "print('rsq: {}  \\nMean rsq: {:.3f}'.format(crossval_rsq_rf, np.mean(crossval_rsq_rf)))\n",
    "print('\\ntrain MSE: {} \\nMean Train MSE: {:.3f}'.format(crossval_train_MSE_rf, np.mean(crossval_train_MSE_rf)))\n",
    "print('\\nMean Test MSE: {:.3f}'.format(np.mean(crossval_test_MSE_rf)))"
   ]
  },
  {
   "cell_type": "code",
   "execution_count": 18,
   "metadata": {
    "scrolled": true
   },
   "outputs": [
    {
     "name": "stdout",
     "output_type": "stream",
     "text": [
      "{'randomforestregressor__max_features': 'sqrt', 'randomforestregressor__n_estimators': 51}\n",
      "rsq: [0.551, 0.367, 0.47]  \n",
      "Mean rsq: 0.463\n",
      "\n",
      "train MSE: [0.082, 0.116, 0.087] \n",
      "Mean Train MSE: 0.095\n",
      "\n",
      "Mean Test MSE: 1.169\n"
     ]
    }
   ],
   "source": [
    "#Double check our results using TimeSeriesSplit\n",
    "\n",
    "crossval_rsq_rf = []\n",
    "crossval_train_MSE_rf = []\n",
    "crossval_test_MSE_rf = []\n",
    "\n",
    "X = trends_price.drop('PCA_mean',axis = 1)\n",
    "y = trends_price['PCA_mean']\n",
    "tss = TimeSeriesSplit(n_splits = 3)\n",
    "    \n",
    "#Call Gridsearchcv with custom split\n",
    "rf_grid = GridSearchCV(rf_pipe, param_grid=grid_params, cv = tss.split(X), n_jobs=-1)    \n",
    "\n",
    "rf_grid.fit(X,y)\n",
    "\n",
    "print(rf_grid.best_params_)\n",
    "\n",
    "rf_model = rf_grid.best_estimator_\n",
    "\n",
    "#Fit model on training and test set with best parameters \n",
    "\n",
    "for train_index, test_index in tss.split(X):\n",
    "    X_train = X.iloc[train_index]\n",
    "    X_test = X.iloc[test_index]\n",
    "    y_train, y_test = y.iloc[train_index], y.iloc[test_index]\n",
    "\n",
    "    rf_model.fit(X_train, y_train)\n",
    "\n",
    "    #predict on train and test set\n",
    "    y_pred_train = rf_model.predict(X_train) \n",
    "    y_pred_test = rf_model.predict(X_test) \n",
    "    \n",
    "    crossval_rsq_rf.append(round(rf_model.score(X_train, y_train),3))\n",
    "    crossval_train_MSE_rf.append(round(mean_squared_error(y_train, y_pred_train),3))\n",
    "    crossval_test_MSE_rf.append(round(mean_squared_error(y_test, y_pred_test),3))        \n",
    " \n",
    "    \n",
    "print('rsq: {}  \\nMean rsq: {:.3f}'.format(crossval_rsq_rf, np.mean(crossval_rsq_rf)))\n",
    "print('\\ntrain MSE: {} \\nMean Train MSE: {:.3f}'.format(crossval_train_MSE_rf, np.mean(crossval_train_MSE_rf)))\n",
    "print('\\nMean Test MSE: {:.3f}'.format(np.mean(crossval_test_MSE_rf)))"
   ]
  },
  {
   "cell_type": "markdown",
   "metadata": {},
   "source": [
    "## Random Forest Model Performance"
   ]
  },
  {
   "cell_type": "markdown",
   "metadata": {},
   "source": [
    "Our model is muich stronger using the Random Forest Model. It is roughly 45% accurate with an average Train MSE of .1 and an average Test MSE of 1.186. While this model also has a bit of variance in the test MSE, it is not as big as our Linear Regression model "
   ]
  },
  {
   "cell_type": "markdown",
   "metadata": {},
   "source": [
    "## Random Forest Feature Importance"
   ]
  },
  {
   "cell_type": "code",
   "execution_count": 19,
   "metadata": {},
   "outputs": [
    {
     "data": {
      "image/png": "[encoded data removed]",
      "text/plain": [
       "<Figure size 720x360 with 1 Axes>"
      ]
     },
     "metadata": {},
     "output_type": "display_data"
    }
   ],
   "source": [
    "plt.subplots(figsize=(10, 5))\n",
    "\n",
    "ax = plt.subplot()\n",
    "imps = rf_grid.best_estimator_.named_steps.randomforestregressor.feature_importances_\n",
    "rf_feat_imps = pd.Series(imps, index=X_train.columns).sort_values(ascending=False)\n",
    "plots = sns.barplot(x = rf_feat_imps.index, y = rf_feat_imps)\n",
    "plt.xlabel('features')\n",
    "plt.ylabel('importance')\n",
    "plt.title('Best random forest regressor feature importances')\n",
    "\n",
    "for bar in plots.patches:\n",
    "    plots.annotate(format(bar.get_height(), '.2f'),\n",
    "                   (bar.get_x() + bar.get_width() / 2,\n",
    "                    bar.get_height()), ha='center', va='center',\n",
    "                   size=14, xytext=(0, 8),\n",
    "                   textcoords='offset points')"
   ]
  },
  {
   "cell_type": "markdown",
   "metadata": {},
   "source": [
    "Bitcoin_gs is the most important feature that impacts the price of cryptocurrencies, after that is a sharp decline with Dogecoin/Ethereum and XRP each with 20% feature importance. "
   ]
  },
  {
   "cell_type": "markdown",
   "metadata": {},
   "source": [
    "## Model #3 - Ridge Regression "
   ]
  },
  {
   "cell_type": "markdown",
   "metadata": {},
   "source": [
    "Since our Independent variables are correlated with each other. Lets use Ridge Regression model and see how it performs"
   ]
  },
  {
   "cell_type": "code",
   "execution_count": 20,
   "metadata": {},
   "outputs": [
    {
     "name": "stdout",
     "output_type": "stream",
     "text": [
      "{'ridge__alpha': 20}\n",
      "rsq: [0.074, 0.095, 0.149]  \n",
      "Mean rsq: 0.106\n",
      "\n",
      "train MSE: [0.167, 0.169, 0.14] \n",
      "Mean Train MSE: 0.159\n",
      "\n",
      "Mean Test MSE: 2.927\n"
     ]
    }
   ],
   "source": [
    "from sklearn.linear_model import Ridge\n",
    "from sklearn.metrics import r2_score\n",
    "\n",
    "\n",
    "#Make a rolling training set and test set and cross validate manually\n",
    "crossval_rsq_rr = []\n",
    "crossval_train_MSE_rr = []\n",
    "crossval_test_MSE_rr = []\n",
    "\n",
    "cv = []\n",
    "\n",
    "rr_pipe = make_pipeline(\n",
    "    Ridge())\n",
    "\n",
    "grid_params = {\n",
    "        'ridge__alpha':[1e-15, 1e-10, 1e-8, 1e-4, 1e-3,1e-2, 1, 5, 10, 20]\n",
    "}\n",
    "\n",
    "for size in splits:\n",
    "    train_split = int(len(trends_price )* size)  \n",
    "    test_split = int(len(trends_price)*(size + .25)) \n",
    "    \n",
    "    cv.append((np.arange(train_split),np.arange(train_split,test_split)))\n",
    "    \n",
    "    \n",
    "rr_grid= GridSearchCV(rr_pipe, grid_params,cv=cv,n_jobs = -1)\n",
    "\n",
    "rr_grid.fit(X,y)\n",
    "\n",
    "print(rr_grid.best_params_)\n",
    "\n",
    "rr_model = rr_grid.best_estimator_\n",
    "\n",
    "#Fit model on the training and test set with best parameters\n",
    "for train,test in cv:\n",
    "\n",
    "    X_train = X.iloc[train]\n",
    "    X_test = X.iloc[test]\n",
    "    \n",
    "    y_train = y.iloc[train]\n",
    "    y_test = y.iloc[test]\n",
    "\n",
    "    rr_model.fit(X_train, y_train)\n",
    "\n",
    "    y_pred_train = rr_model.predict(X_train) \n",
    "    y_pred_test = rr_model.predict(X_test) \n",
    "    \n",
    "    crossval_rsq_rr.append(round(rr_model.score(X_train, y_train),3))\n",
    "    crossval_train_MSE_rr.append(round(mean_squared_error(y_train, y_pred_train),3))\n",
    "    crossval_test_MSE_rr.append(round(mean_squared_error(y_test, y_pred_test),3))\n",
    "\n",
    "\n",
    "print('rsq: {}  \\nMean rsq: {:.3f}'.format(crossval_rsq_rr, np.mean(crossval_rsq_rr)))\n",
    "print('\\ntrain MSE: {} \\nMean Train MSE: {:.3f}'.format(crossval_train_MSE_rr, np.mean(crossval_train_MSE_rr)))\n",
    "print('\\nMean Test MSE: {:.3f}'.format(np.mean(crossval_test_MSE_rr)))"
   ]
  },
  {
   "cell_type": "code",
   "execution_count": 21,
   "metadata": {},
   "outputs": [
    {
     "name": "stdout",
     "output_type": "stream",
     "text": [
      "{'ridge__alpha': 20}\n",
      "rsq: [0.135, 0.096, 0.15]  \n",
      "Mean rsq: 0.127\n",
      "\n",
      "train MSE: [0.159, 0.165, 0.14] \n",
      "Mean Train MSE: 0.155\n",
      "\n",
      "Mean Test MSE: 3.175\n"
     ]
    }
   ],
   "source": [
    "#Double Check results from TimeSeriesSplit\n",
    "\n",
    "crossval_rsq_rr = []\n",
    "crossval_train_MSE_rr = []\n",
    "crossval_test_MSE_rr = []\n",
    "\n",
    "tss = TimeSeriesSplit(n_splits = 3)\n",
    "    \n",
    "rr_grid = GridSearchCV(rr_pipe, param_grid=grid_params, cv = tss.split(X), n_jobs=-1)\n",
    "    \n",
    "\n",
    "rr_grid.fit(X,y)\n",
    "print(rr_grid.best_params_)\n",
    "\n",
    "rr_model = rr_grid.best_estimator_\n",
    "\n",
    "#Fit model on training and test set with best parameters \n",
    "\n",
    "for train_index, test_index in tss.split(X):\n",
    "    X_train = X.iloc[train_index]\n",
    "    X_test = X.iloc[test_index]\n",
    "    y_train, y_test = y.iloc[train_index], y.iloc[test_index]\n",
    "\n",
    "    rr_model.fit(X_train, y_train)\n",
    "\n",
    "    y_pred_train = rr_model.predict(X_train) \n",
    "    y_pred_test = rr_model.predict(X_test) \n",
    "    \n",
    "    crossval_rsq_rr.append(round(rr_model.score(X_train, y_train),3))\n",
    "    crossval_train_MSE_rr.append(round(mean_squared_error(y_train, y_pred_train),3))\n",
    "    crossval_test_MSE_rr.append(round(mean_squared_error(y_test, y_pred_test),3))        \n",
    " \n",
    "    \n",
    "print('rsq: {}  \\nMean rsq: {:.3f}'.format(crossval_rsq_rr, np.mean(crossval_rsq_rr)))\n",
    "print('\\ntrain MSE: {} \\nMean Train MSE: {:.3f}'.format(crossval_train_MSE_rr, np.mean(crossval_train_MSE_rr)))\n",
    "print('\\nMean Test MSE: {:.3f}'.format(np.mean(crossval_test_MSE_rr)))"
   ]
  },
  {
   "cell_type": "markdown",
   "metadata": {},
   "source": [
    "## Ridge Regression Model Performance"
   ]
  },
  {
   "cell_type": "markdown",
   "metadata": {},
   "source": [
    "Our model is roughly 12.7% accurate. Our Train MSE is 0.155 and our Test MSE is 3.175. \n",
    "This model performed the worst out of all three on  the rsq metric. And is in the middle for mean MSE score. "
   ]
  },
  {
   "cell_type": "code",
   "execution_count": 80,
   "metadata": {},
   "outputs": [
    {
     "data": {
      "image/png": "[encoded data removed]",
      "text/plain": [
       "<Figure size 1080x720 with 1 Axes>"
      ]
     },
     "metadata": {},
     "output_type": "display_data"
    }
   ],
   "source": [
    "fig ,ax = plt.subplots()\n",
    "\n",
    "labels = ['Split 1','Split 2',' Split 3']\n",
    "ax.bar(labels, crossval_train_MSE_rr, .4)\n",
    "ax.bar(labels, crossval_train_MSE, .4)\n",
    "ax.bar(labels, crossval_train_MSE_rf, .4)\n",
    "plt.legend(['Ridge Regresion', 'Linear Regression', 'Random Forest'])\n",
    "ax.set_ylabel('MSE of training set',size = 14)\n",
    "ax.set_title('MSE for Cross Validation Splits', size =20)\n",
    "plt.show()"
   ]
  },
  {
   "cell_type": "code",
   "execution_count": 82,
   "metadata": {},
   "outputs": [
    {
     "data": {
      "image/png": "[encoded data removed]",
      "text/plain": [
       "<Figure size 1080x720 with 1 Axes>"
      ]
     },
     "metadata": {},
     "output_type": "display_data"
    }
   ],
   "source": [
    "fig ,ax = plt.subplots()\n",
    "\n",
    "labels = ['Split 1','Split 2',' Split 3']\n",
    "ax.bar(labels, crossval_rsq_rf, .4)\n",
    "ax.bar(labels, crossval_rsq, .4)\n",
    "ax.bar(labels, crossval_rsq_rr, .4)\n",
    "plt.legend(['Random Forest Regression', 'Linear Regression', 'Ridge Regresion'])\n",
    "ax.set_ylabel('R Squared',size = 14)\n",
    "ax.set_title('R Squared for Cross Validation Splits', size =20)\n",
    "plt.show()"
   ]
  },
  {
   "cell_type": "markdown",
   "metadata": {},
   "source": [
    "## Finding the right model"
   ]
  },
  {
   "cell_type": "markdown",
   "metadata": {},
   "source": [
    "Lets look at performance for linear regression and Random forest again"
   ]
  },
  {
   "cell_type": "code",
   "execution_count": 74,
   "metadata": {},
   "outputs": [
    {
     "name": "stdout",
     "output_type": "stream",
     "text": [
      "rsq: [0.2, 0.143, 0.252]  \n",
      "Mean rsq: 0.198\n",
      "\n",
      "train MSE: [0.147, 0.157, 0.123] \n",
      "Mean Train MSE: 0.142\n",
      "\n",
      "test MSE: [1.247, 0.061, 56.653] \n",
      "Mean Test MSE: 19.320\n"
     ]
    }
   ],
   "source": [
    "#Linear Regression Model Performance\n",
    "print('rsq: {}  \\nMean rsq: {:.3f}'.format(crossval_rsq, np.mean(crossval_rsq)))\n",
    "print('\\ntrain MSE: {} \\nMean Train MSE: {:.3f}'.format(crossval_train_MSE, np.mean(crossval_train_MSE)))\n",
    "print('\\ntest MSE: {} \\nMean Test MSE: {:.3f}'.format(crossval_test_MSE, np.mean(crossval_test_MSE)))"
   ]
  },
  {
   "cell_type": "code",
   "execution_count": 75,
   "metadata": {},
   "outputs": [
    {
     "name": "stdout",
     "output_type": "stream",
     "text": [
      "rsq: [0.551, 0.367, 0.47]  \n",
      "Mean rsq: 0.463\n",
      "\n",
      "train MSE: [0.082, 0.116, 0.087] \n",
      "Mean Train MSE: 0.095\n",
      "\n",
      "test MSE: [0.307, 0.082, 3.119] \n",
      "Mean Test MSE: 1.169\n"
     ]
    }
   ],
   "source": [
    "#Random Forest Model Performance\n",
    "print('rsq: {}  \\nMean rsq: {:.3f}'.format(crossval_rsq_rf, np.mean(crossval_rsq_rf)))\n",
    "print('\\ntrain MSE: {} \\nMean Train MSE: {:.3f}'.format(crossval_train_MSE_rf, np.mean(crossval_train_MSE_rf)))\n",
    "print('\\ntest MSE: {} \\nMean Test MSE: {:.3f}'.format(crossval_test_MSE_rf, np.mean(crossval_test_MSE_rf)))"
   ]
  },
  {
   "cell_type": "markdown",
   "metadata": {},
   "source": [
    "Random Forest has the highest mean r2 score and the lowest mean MSE. \n",
    "\n",
    "We will use random forest as our model for this problem"
   ]
  },
  {
   "cell_type": "code",
   "execution_count": null,
   "metadata": {},
   "outputs": [],
   "source": []
  }
 ],
 "metadata": {
  "kernelspec": {
   "display_name": "Python 3",
   "language": "python",
   "name": "python3"
  },
  "language_info": {
   "codemirror_mode": {
    "name": "ipython",
    "version": 3
   },
   "file_extension": ".py",
   "mimetype": "text/x-python",
   "name": "python",
   "nbconvert_exporter": "python",
   "pygments_lexer": "ipython3",
   "version": "3.8.5"
  }
 },
 "nbformat": 4,
 "nbformat_minor": 4
}
