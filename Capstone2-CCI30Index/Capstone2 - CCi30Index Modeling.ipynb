{
 "cells": [
  {
   "cell_type": "code",
   "execution_count": 196,
   "metadata": {},
   "outputs": [],
   "source": [
    "#import libraries\n",
    "import pandas as pd\n",
    "import numpy as np\n",
    "import matplotlib.pyplot as plt\n",
    "import seaborn as sns\n",
    "import numpy as np\n",
    "from sklearn.linear_model import LinearRegression\n",
    "from sklearn.model_selection import train_test_split"
   ]
  },
  {
   "cell_type": "code",
   "execution_count": 197,
   "metadata": {},
   "outputs": [],
   "source": [
    "#Run a linear regression model on PCA_Dataset_With_Mean and GoogleTrendsTimelineCleaned\n",
    "#load data\n",
    "pca_dataset = pd.read_csv('./Data/PCA_Dataset_With_Mean.csv',index_col = 0)\n",
    "gtrends = pd.read_csv('./Data/GoogleTrendsTimelineCleaned.csv', index_col=0)"
   ]
  },
  {
   "cell_type": "code",
   "execution_count": 198,
   "metadata": {},
   "outputs": [],
   "source": [
    "pca_dataset.index = pd.to_datetime(pca_dataset.index)\n",
    "gtrends.index = pd.to_datetime(gtrends.index)\n"
   ]
  },
  {
   "cell_type": "code",
   "execution_count": 199,
   "metadata": {},
   "outputs": [
    {
     "data": {
      "text/html": [
       "<div>\n",
       "<style scoped>\n",
       "    .dataframe tbody tr th:only-of-type {\n",
       "        vertical-align: middle;\n",
       "    }\n",
       "\n",
       "    .dataframe tbody tr th {\n",
       "        vertical-align: top;\n",
       "    }\n",
       "\n",
       "    .dataframe thead th {\n",
       "        text-align: right;\n",
       "    }\n",
       "</style>\n",
       "<table border=\"1\" class=\"dataframe\">\n",
       "  <thead>\n",
       "    <tr style=\"text-align: right;\">\n",
       "      <th></th>\n",
       "      <th>PCA_mean</th>\n",
       "    </tr>\n",
       "    <tr>\n",
       "      <th>Date</th>\n",
       "      <th></th>\n",
       "    </tr>\n",
       "  </thead>\n",
       "  <tbody>\n",
       "    <tr>\n",
       "      <th>2018-10-07</th>\n",
       "      <td>1.205377</td>\n",
       "    </tr>\n",
       "    <tr>\n",
       "      <th>2018-10-14</th>\n",
       "      <td>2.077193</td>\n",
       "    </tr>\n",
       "    <tr>\n",
       "      <th>2018-10-21</th>\n",
       "      <td>1.376956</td>\n",
       "    </tr>\n",
       "    <tr>\n",
       "      <th>2018-10-28</th>\n",
       "      <td>0.864625</td>\n",
       "    </tr>\n",
       "    <tr>\n",
       "      <th>2018-11-04</th>\n",
       "      <td>0.967327</td>\n",
       "    </tr>\n",
       "    <tr>\n",
       "      <th>...</th>\n",
       "      <td>...</td>\n",
       "    </tr>\n",
       "    <tr>\n",
       "      <th>2021-05-02</th>\n",
       "      <td>5.596290</td>\n",
       "    </tr>\n",
       "    <tr>\n",
       "      <th>2021-05-09</th>\n",
       "      <td>5.546458</td>\n",
       "    </tr>\n",
       "    <tr>\n",
       "      <th>2021-05-16</th>\n",
       "      <td>3.392458</td>\n",
       "    </tr>\n",
       "    <tr>\n",
       "      <th>2021-05-23</th>\n",
       "      <td>2.996042</td>\n",
       "    </tr>\n",
       "    <tr>\n",
       "      <th>2021-05-30</th>\n",
       "      <td>3.097363</td>\n",
       "    </tr>\n",
       "  </tbody>\n",
       "</table>\n",
       "<p>139 rows × 1 columns</p>\n",
       "</div>"
      ],
      "text/plain": [
       "            PCA_mean\n",
       "Date                \n",
       "2018-10-07  1.205377\n",
       "2018-10-14  2.077193\n",
       "2018-10-21  1.376956\n",
       "2018-10-28  0.864625\n",
       "2018-11-04  0.967327\n",
       "...              ...\n",
       "2021-05-02  5.596290\n",
       "2021-05-09  5.546458\n",
       "2021-05-16  3.392458\n",
       "2021-05-23  2.996042\n",
       "2021-05-30  3.097363\n",
       "\n",
       "[139 rows x 1 columns]"
      ]
     },
     "execution_count": 199,
     "metadata": {},
     "output_type": "execute_result"
    }
   ],
   "source": [
    "pca_dataset = pd.DataFrame(pca_dataset['PCA_mean'])\n",
    "pca_dataset"
   ]
  },
  {
   "cell_type": "code",
   "execution_count": 200,
   "metadata": {},
   "outputs": [],
   "source": [
    "gtrends.index.rename('Date', inplace = True)\n",
    "gtrends.drop('Cryptocurrency', axis = 1, inplace = True)"
   ]
  },
  {
   "cell_type": "code",
   "execution_count": 201,
   "metadata": {
    "scrolled": false
   },
   "outputs": [
    {
     "data": {
      "text/plain": [
       "[Text(0, 0.5, 'Bitcoin'),\n",
       " Text(0, 1.5, 'Ethereum'),\n",
       " Text(0, 2.5, 'Bitcoin Cash'),\n",
       " Text(0, 3.5, 'Dogecoin')]"
      ]
     },
     "execution_count": 201,
     "metadata": {},
     "output_type": "execute_result"
    },
    {
     "data": {
      "image/png": "[encoded data removed]",
      "text/plain": [
       "<Figure size 1080x720 with 2 Axes>"
      ]
     },
     "metadata": {},
     "output_type": "display_data"
    }
   ],
   "source": [
    "#Check for colinearity in google trends dataset\n",
    "\n",
    "corr = gtrends.corr()\n",
    "ax = sns.heatmap(\n",
    "    corr, \n",
    "    vmin=-1, vmax=1, center=0,\n",
    "    cmap=sns.diverging_palette(20, 220, n=200),\n",
    "    square=True,\n",
    "    annot=True\n",
    ")\n",
    "ax.set_xticklabels(\n",
    "    ax.get_xticklabels(),\n",
    "    rotation=0)\n",
    "ax.set_yticklabels(ax.get_yticklabels(), rotation =0)"
   ]
  },
  {
   "cell_type": "code",
   "execution_count": 202,
   "metadata": {
    "scrolled": false
   },
   "outputs": [],
   "source": [
    "#This data is highly correlated. We need to decorrelate these columns. \n",
    "#Task 1 - how to decorrelate?\n",
    "gtrends['Avg_Doge_Ether'] = (gtrends['Dogecoin'] + gtrends['Ethereum'])/2\n",
    "gtrends.drop(['Ethereum', 'Dogecoin'],axis = 1, inplace = True)\n"
   ]
  },
  {
   "cell_type": "code",
   "execution_count": 203,
   "metadata": {},
   "outputs": [
    {
     "data": {
      "text/html": [
       "<div>\n",
       "<style scoped>\n",
       "    .dataframe tbody tr th:only-of-type {\n",
       "        vertical-align: middle;\n",
       "    }\n",
       "\n",
       "    .dataframe tbody tr th {\n",
       "        vertical-align: top;\n",
       "    }\n",
       "\n",
       "    .dataframe thead th {\n",
       "        text-align: right;\n",
       "    }\n",
       "</style>\n",
       "<table border=\"1\" class=\"dataframe\">\n",
       "  <thead>\n",
       "    <tr style=\"text-align: right;\">\n",
       "      <th></th>\n",
       "      <th>Bitcoin</th>\n",
       "      <th>Bitcoin Cash</th>\n",
       "      <th>Avg_Doge_Ether</th>\n",
       "    </tr>\n",
       "    <tr>\n",
       "      <th>Date</th>\n",
       "      <th></th>\n",
       "      <th></th>\n",
       "      <th></th>\n",
       "    </tr>\n",
       "  </thead>\n",
       "  <tbody>\n",
       "    <tr>\n",
       "      <th>2018-10-07</th>\n",
       "      <td>8</td>\n",
       "      <td>0</td>\n",
       "      <td>0.5</td>\n",
       "    </tr>\n",
       "    <tr>\n",
       "      <th>2018-10-14</th>\n",
       "      <td>9</td>\n",
       "      <td>0</td>\n",
       "      <td>0.5</td>\n",
       "    </tr>\n",
       "    <tr>\n",
       "      <th>2018-10-21</th>\n",
       "      <td>8</td>\n",
       "      <td>0</td>\n",
       "      <td>0.5</td>\n",
       "    </tr>\n",
       "    <tr>\n",
       "      <th>2018-10-28</th>\n",
       "      <td>8</td>\n",
       "      <td>0</td>\n",
       "      <td>0.5</td>\n",
       "    </tr>\n",
       "    <tr>\n",
       "      <th>2018-11-04</th>\n",
       "      <td>8</td>\n",
       "      <td>1</td>\n",
       "      <td>0.5</td>\n",
       "    </tr>\n",
       "    <tr>\n",
       "      <th>...</th>\n",
       "      <td>...</td>\n",
       "      <td>...</td>\n",
       "      <td>...</td>\n",
       "    </tr>\n",
       "    <tr>\n",
       "      <th>2021-05-02</th>\n",
       "      <td>35</td>\n",
       "      <td>1</td>\n",
       "      <td>26.5</td>\n",
       "    </tr>\n",
       "    <tr>\n",
       "      <th>2021-05-09</th>\n",
       "      <td>43</td>\n",
       "      <td>1</td>\n",
       "      <td>27.5</td>\n",
       "    </tr>\n",
       "    <tr>\n",
       "      <th>2021-05-16</th>\n",
       "      <td>74</td>\n",
       "      <td>1</td>\n",
       "      <td>17.0</td>\n",
       "    </tr>\n",
       "    <tr>\n",
       "      <th>2021-05-23</th>\n",
       "      <td>58</td>\n",
       "      <td>0</td>\n",
       "      <td>11.5</td>\n",
       "    </tr>\n",
       "    <tr>\n",
       "      <th>2021-05-30</th>\n",
       "      <td>40</td>\n",
       "      <td>0</td>\n",
       "      <td>9.0</td>\n",
       "    </tr>\n",
       "  </tbody>\n",
       "</table>\n",
       "<p>139 rows × 3 columns</p>\n",
       "</div>"
      ],
      "text/plain": [
       "            Bitcoin  Bitcoin Cash  Avg_Doge_Ether\n",
       "Date                                             \n",
       "2018-10-07        8             0             0.5\n",
       "2018-10-14        9             0             0.5\n",
       "2018-10-21        8             0             0.5\n",
       "2018-10-28        8             0             0.5\n",
       "2018-11-04        8             1             0.5\n",
       "...             ...           ...             ...\n",
       "2021-05-02       35             1            26.5\n",
       "2021-05-09       43             1            27.5\n",
       "2021-05-16       74             1            17.0\n",
       "2021-05-23       58             0            11.5\n",
       "2021-05-30       40             0             9.0\n",
       "\n",
       "[139 rows x 3 columns]"
      ]
     },
     "execution_count": 203,
     "metadata": {},
     "output_type": "execute_result"
    }
   ],
   "source": [
    "gtrends"
   ]
  },
  {
   "cell_type": "code",
   "execution_count": 204,
   "metadata": {},
   "outputs": [
    {
     "data": {
      "text/html": [
       "<div>\n",
       "<style scoped>\n",
       "    .dataframe tbody tr th:only-of-type {\n",
       "        vertical-align: middle;\n",
       "    }\n",
       "\n",
       "    .dataframe tbody tr th {\n",
       "        vertical-align: top;\n",
       "    }\n",
       "\n",
       "    .dataframe thead th {\n",
       "        text-align: right;\n",
       "    }\n",
       "</style>\n",
       "<table border=\"1\" class=\"dataframe\">\n",
       "  <thead>\n",
       "    <tr style=\"text-align: right;\">\n",
       "      <th></th>\n",
       "      <th>Bitcoin</th>\n",
       "      <th>Bitcoin Cash</th>\n",
       "      <th>Avg_Doge_Ether</th>\n",
       "      <th>PCA_mean</th>\n",
       "    </tr>\n",
       "    <tr>\n",
       "      <th>Date</th>\n",
       "      <th></th>\n",
       "      <th></th>\n",
       "      <th></th>\n",
       "      <th></th>\n",
       "    </tr>\n",
       "  </thead>\n",
       "  <tbody>\n",
       "    <tr>\n",
       "      <th>2018-10-07</th>\n",
       "      <td>8</td>\n",
       "      <td>0</td>\n",
       "      <td>0.5</td>\n",
       "      <td>1.205377</td>\n",
       "    </tr>\n",
       "    <tr>\n",
       "      <th>2018-10-14</th>\n",
       "      <td>9</td>\n",
       "      <td>0</td>\n",
       "      <td>0.5</td>\n",
       "      <td>2.077193</td>\n",
       "    </tr>\n",
       "    <tr>\n",
       "      <th>2018-10-21</th>\n",
       "      <td>8</td>\n",
       "      <td>0</td>\n",
       "      <td>0.5</td>\n",
       "      <td>1.376956</td>\n",
       "    </tr>\n",
       "    <tr>\n",
       "      <th>2018-10-28</th>\n",
       "      <td>8</td>\n",
       "      <td>0</td>\n",
       "      <td>0.5</td>\n",
       "      <td>0.864625</td>\n",
       "    </tr>\n",
       "    <tr>\n",
       "      <th>2018-11-04</th>\n",
       "      <td>8</td>\n",
       "      <td>1</td>\n",
       "      <td>0.5</td>\n",
       "      <td>0.967327</td>\n",
       "    </tr>\n",
       "    <tr>\n",
       "      <th>...</th>\n",
       "      <td>...</td>\n",
       "      <td>...</td>\n",
       "      <td>...</td>\n",
       "      <td>...</td>\n",
       "    </tr>\n",
       "    <tr>\n",
       "      <th>2021-05-02</th>\n",
       "      <td>35</td>\n",
       "      <td>1</td>\n",
       "      <td>26.5</td>\n",
       "      <td>5.596290</td>\n",
       "    </tr>\n",
       "    <tr>\n",
       "      <th>2021-05-09</th>\n",
       "      <td>43</td>\n",
       "      <td>1</td>\n",
       "      <td>27.5</td>\n",
       "      <td>5.546458</td>\n",
       "    </tr>\n",
       "    <tr>\n",
       "      <th>2021-05-16</th>\n",
       "      <td>74</td>\n",
       "      <td>1</td>\n",
       "      <td>17.0</td>\n",
       "      <td>3.392458</td>\n",
       "    </tr>\n",
       "    <tr>\n",
       "      <th>2021-05-23</th>\n",
       "      <td>58</td>\n",
       "      <td>0</td>\n",
       "      <td>11.5</td>\n",
       "      <td>2.996042</td>\n",
       "    </tr>\n",
       "    <tr>\n",
       "      <th>2021-05-30</th>\n",
       "      <td>40</td>\n",
       "      <td>0</td>\n",
       "      <td>9.0</td>\n",
       "      <td>3.097363</td>\n",
       "    </tr>\n",
       "  </tbody>\n",
       "</table>\n",
       "<p>139 rows × 4 columns</p>\n",
       "</div>"
      ],
      "text/plain": [
       "            Bitcoin  Bitcoin Cash  Avg_Doge_Ether  PCA_mean\n",
       "Date                                                       \n",
       "2018-10-07        8             0             0.5  1.205377\n",
       "2018-10-14        9             0             0.5  2.077193\n",
       "2018-10-21        8             0             0.5  1.376956\n",
       "2018-10-28        8             0             0.5  0.864625\n",
       "2018-11-04        8             1             0.5  0.967327\n",
       "...             ...           ...             ...       ...\n",
       "2021-05-02       35             1            26.5  5.596290\n",
       "2021-05-09       43             1            27.5  5.546458\n",
       "2021-05-16       74             1            17.0  3.392458\n",
       "2021-05-23       58             0            11.5  2.996042\n",
       "2021-05-30       40             0             9.0  3.097363\n",
       "\n",
       "[139 rows x 4 columns]"
      ]
     },
     "execution_count": 204,
     "metadata": {},
     "output_type": "execute_result"
    }
   ],
   "source": [
    "trends_price = gtrends.merge(pca_dataset, on='Date', left_index = True)\n",
    "trends_price"
   ]
  },
  {
   "cell_type": "code",
   "execution_count": 221,
   "metadata": {
    "scrolled": false
   },
   "outputs": [
    {
     "data": {
      "image/png": "[encoded data removed]",
      "text/plain": [
       "<Figure size 1080x720 with 1 Axes>"
      ]
     },
     "metadata": {},
     "output_type": "display_data"
    }
   ],
   "source": [
    "sns.set(rc={'figure.figsize':(15,10)})\n",
    "sns.scatterplot(x=trends_price['Bitcoin'],y=trends_price['PCA_mean'])\n",
    "sns.scatterplot(x=trends_price['Bitcoin Cash'],y=trends_price['PCA_mean'])\n",
    "sns.scatterplot(x=trends_price['Avg_Doge_Ether'],y=trends_price['PCA_mean'])\n",
    "plt.legend(labels=['Bitcoin', 'Bitcoin Cash', 'Avg_Doge_Ether'])\n",
    "plt.show()"
   ]
  },
  {
   "cell_type": "code",
   "execution_count": 247,
   "metadata": {},
   "outputs": [],
   "source": [
    "#Create Train Test Spilt\n",
    "\n",
    "X = trends_price.drop('PCA_mean', axis =1)\n",
    "y = trends_price['PCA_mean']\n",
    "\n",
    "X_train, X_test,y_train,y_test = train_test_split(X,y,test_size =0.3,shuffle = True, random_state = 2)"
   ]
  },
  {
   "cell_type": "code",
   "execution_count": 249,
   "metadata": {},
   "outputs": [],
   "source": [
    "from sklearn.preprocessing import StandardScaler\n",
    "from sklearn.metrics import mean_squared_error\n",
    "from sklearn.metrics import mean_absolute_error\n",
    "from sklearn.model_selection import cross_val_score\n",
    "from sklearn.model_selection import cross_validate\n",
    "\n",
    "\n",
    "sc = StandardScaler()\n",
    "\n",
    "X_train = sc.fit_transform(X_train)\n",
    "\n",
    "X_test = sc.transform (X_test)"
   ]
  },
  {
   "cell_type": "code",
   "execution_count": 250,
   "metadata": {},
   "outputs": [
    {
     "name": "stdout",
     "output_type": "stream",
     "text": [
      "R-squared: 65.91\n"
     ]
    }
   ],
   "source": [
    "reg = LinearRegression()\n",
    "reg.fit(X_train,y_train)\n",
    "\n",
    "r_sq = reg.score(X_train, y_train)\n",
    "print('R-squared: {:.2f}'.format(r_sq * 100))\n",
    "\n",
    "y_pred=reg.predict(X_test)"
   ]
  },
  {
   "cell_type": "markdown",
   "metadata": {},
   "source": [
    "Our model is about 48.9% accurate"
   ]
  },
  {
   "cell_type": "code",
   "execution_count": 225,
   "metadata": {},
   "outputs": [
    {
     "name": "stdout",
     "output_type": "stream",
     "text": [
      "The MSE is: 0.27127820032149796\n",
      "The MAE is: 0.418007086560518\n"
     ]
    }
   ],
   "source": [
    "print(\"The MSE is: {}\".format(mean_squared_error(y_test, y_pred)))\n",
    "print('The MAE is: {}'.format(mean_absolute_error(y_test, y_pred)))"
   ]
  },
  {
   "cell_type": "markdown",
   "metadata": {},
   "source": [
    "From the MAE, on average our prediction is about 0.46 off from the true value"
   ]
  },
  {
   "cell_type": "code",
   "execution_count": 226,
   "metadata": {},
   "outputs": [
    {
     "name": "stdout",
     "output_type": "stream",
     "text": [
      "Cross-validated scores: [0.06792366 0.77344871 0.54342386 0.42982003 0.84297692]\n"
     ]
    }
   ],
   "source": [
    "#Cross Validate\n",
    "#Task 2 - Am i doing this wrong?\n",
    "score = cross_val_score(reg,X_train,y_train,cv=5)\n",
    "print('Cross-validated scores: {}'.format(score))"
   ]
  },
  {
   "cell_type": "code",
   "execution_count": 227,
   "metadata": {},
   "outputs": [],
   "source": [
    "#Stats Model\n",
    "import statsmodels.api as sm\n",
    "\n",
    "X2 = sm.add_constant(X)\n",
    "\n",
    "regstats = sm.OLS(y,X2)\n",
    "stats= regstats.fit()\n",
    "pred = stats.predict()"
   ]
  },
  {
   "cell_type": "code",
   "execution_count": 228,
   "metadata": {},
   "outputs": [
    {
     "data": {
      "text/html": [
       "<table class=\"simpletable\">\n",
       "<caption>OLS Regression Results</caption>\n",
       "<tr>\n",
       "  <th>Dep. Variable:</th>        <td>PCA_mean</td>     <th>  R-squared:         </th> <td>   0.629</td>\n",
       "</tr>\n",
       "<tr>\n",
       "  <th>Model:</th>                   <td>OLS</td>       <th>  Adj. R-squared:    </th> <td>   0.620</td>\n",
       "</tr>\n",
       "<tr>\n",
       "  <th>Method:</th>             <td>Least Squares</td>  <th>  F-statistic:       </th> <td>   76.14</td>\n",
       "</tr>\n",
       "<tr>\n",
       "  <th>Date:</th>             <td>Tue, 17 Aug 2021</td> <th>  Prob (F-statistic):</th> <td>6.94e-29</td>\n",
       "</tr>\n",
       "<tr>\n",
       "  <th>Time:</th>                 <td>12:57:23</td>     <th>  Log-Likelihood:    </th> <td> -115.44</td>\n",
       "</tr>\n",
       "<tr>\n",
       "  <th>No. Observations:</th>      <td>   139</td>      <th>  AIC:               </th> <td>   238.9</td>\n",
       "</tr>\n",
       "<tr>\n",
       "  <th>Df Residuals:</th>          <td>   135</td>      <th>  BIC:               </th> <td>   250.6</td>\n",
       "</tr>\n",
       "<tr>\n",
       "  <th>Df Model:</th>              <td>     3</td>      <th>                     </th>     <td> </td>   \n",
       "</tr>\n",
       "<tr>\n",
       "  <th>Covariance Type:</th>      <td>nonrobust</td>    <th>                     </th>     <td> </td>   \n",
       "</tr>\n",
       "</table>\n",
       "<table class=\"simpletable\">\n",
       "<tr>\n",
       "         <td></td>           <th>coef</th>     <th>std err</th>      <th>t</th>      <th>P>|t|</th>  <th>[0.025</th>    <th>0.975]</th>  \n",
       "</tr>\n",
       "<tr>\n",
       "  <th>const</th>          <td>    0.8756</td> <td>    0.075</td> <td>   11.652</td> <td> 0.000</td> <td>    0.727</td> <td>    1.024</td>\n",
       "</tr>\n",
       "<tr>\n",
       "  <th>Bitcoin</th>        <td>   -0.0050</td> <td>    0.004</td> <td>   -1.357</td> <td> 0.177</td> <td>   -0.012</td> <td>    0.002</td>\n",
       "</tr>\n",
       "<tr>\n",
       "  <th>Bitcoin Cash</th>   <td>    0.2343</td> <td>    0.222</td> <td>    1.055</td> <td> 0.293</td> <td>   -0.205</td> <td>    0.673</td>\n",
       "</tr>\n",
       "<tr>\n",
       "  <th>Avg_Doge_Ether</th> <td>    0.1570</td> <td>    0.015</td> <td>   10.372</td> <td> 0.000</td> <td>    0.127</td> <td>    0.187</td>\n",
       "</tr>\n",
       "</table>\n",
       "<table class=\"simpletable\">\n",
       "<tr>\n",
       "  <th>Omnibus:</th>       <td>16.307</td> <th>  Durbin-Watson:     </th> <td>   0.496</td>\n",
       "</tr>\n",
       "<tr>\n",
       "  <th>Prob(Omnibus):</th> <td> 0.000</td> <th>  Jarque-Bera (JB):  </th> <td>  28.503</td>\n",
       "</tr>\n",
       "<tr>\n",
       "  <th>Skew:</th>          <td> 0.547</td> <th>  Prob(JB):          </th> <td>6.47e-07</td>\n",
       "</tr>\n",
       "<tr>\n",
       "  <th>Kurtosis:</th>      <td> 4.930</td> <th>  Cond. No.          </th> <td>    118.</td>\n",
       "</tr>\n",
       "</table><br/><br/>Notes:<br/>[1] Standard Errors assume that the covariance matrix of the errors is correctly specified."
      ],
      "text/plain": [
       "<class 'statsmodels.iolib.summary.Summary'>\n",
       "\"\"\"\n",
       "                            OLS Regression Results                            \n",
       "==============================================================================\n",
       "Dep. Variable:               PCA_mean   R-squared:                       0.629\n",
       "Model:                            OLS   Adj. R-squared:                  0.620\n",
       "Method:                 Least Squares   F-statistic:                     76.14\n",
       "Date:                Tue, 17 Aug 2021   Prob (F-statistic):           6.94e-29\n",
       "Time:                        12:57:23   Log-Likelihood:                -115.44\n",
       "No. Observations:                 139   AIC:                             238.9\n",
       "Df Residuals:                     135   BIC:                             250.6\n",
       "Df Model:                           3                                         \n",
       "Covariance Type:            nonrobust                                         \n",
       "==================================================================================\n",
       "                     coef    std err          t      P>|t|      [0.025      0.975]\n",
       "----------------------------------------------------------------------------------\n",
       "const              0.8756      0.075     11.652      0.000       0.727       1.024\n",
       "Bitcoin           -0.0050      0.004     -1.357      0.177      -0.012       0.002\n",
       "Bitcoin Cash       0.2343      0.222      1.055      0.293      -0.205       0.673\n",
       "Avg_Doge_Ether     0.1570      0.015     10.372      0.000       0.127       0.187\n",
       "==============================================================================\n",
       "Omnibus:                       16.307   Durbin-Watson:                   0.496\n",
       "Prob(Omnibus):                  0.000   Jarque-Bera (JB):               28.503\n",
       "Skew:                           0.547   Prob(JB):                     6.47e-07\n",
       "Kurtosis:                       4.930   Cond. No.                         118.\n",
       "==============================================================================\n",
       "\n",
       "Notes:\n",
       "[1] Standard Errors assume that the covariance matrix of the errors is correctly specified.\n",
       "\"\"\""
      ]
     },
     "execution_count": 228,
     "metadata": {},
     "output_type": "execute_result"
    }
   ],
   "source": [
    "stats.summary()"
   ]
  },
  {
   "cell_type": "markdown",
   "metadata": {},
   "source": [
    "## Model 2 - Random Forest with GridSearchCV"
   ]
  },
  {
   "cell_type": "code",
   "execution_count": 229,
   "metadata": {},
   "outputs": [],
   "source": [
    "from sklearn.ensemble import RandomForestRegressor\n",
    "from sklearn.model_selection import GridSearchCV\n",
    "from sklearn.pipeline import make_pipeline\n",
    "\n",
    "#Remake X, y test spilt based on all Google trends\n",
    "rf_X = trends_price.drop('PCA_mean',axis =1)\n",
    "rf_y = trends_price['PCA_mean']\n",
    "\n",
    "rf_X_train, rf_X_test,rf_y_train,rf_y_test = train_test_split(rf_X,rf_y,test_size =0.3, shuffle = True, random_state = 2)\n",
    "\n",
    "\n",
    "rf_pipe = make_pipeline(\n",
    "    StandardScaler(),\n",
    "RandomForestRegressor(random_state = 2))\n",
    "\n",
    "max_features = ['auto', 'sqrt']\n",
    "n_est = [int(n) for n in np.logspace(start=1, stop=3, num=30)]\n",
    "\n",
    "\n",
    "grid_params = {\n",
    "        'randomforestregressor__n_estimators': n_est,\n",
    "        'standardscaler': [StandardScaler(), None],\n",
    "    'randomforestregressor__max_features':max_features\n",
    "}"
   ]
  },
  {
   "cell_type": "code",
   "execution_count": 230,
   "metadata": {},
   "outputs": [],
   "source": [
    "rf_grid = GridSearchCV(rf_pipe, param_grid=grid_params, cv=5, n_jobs=-1)"
   ]
  },
  {
   "cell_type": "code",
   "execution_count": 231,
   "metadata": {},
   "outputs": [
    {
     "data": {
      "text/plain": [
       "GridSearchCV(cv=5,\n",
       "             estimator=Pipeline(steps=[('standardscaler', StandardScaler()),\n",
       "                                       ('randomforestregressor',\n",
       "                                        RandomForestRegressor(random_state=2))]),\n",
       "             n_jobs=-1,\n",
       "             param_grid={'randomforestregressor__max_features': ['auto',\n",
       "                                                                 'sqrt'],\n",
       "                         'randomforestregressor__n_estimators': [10, 11, 13, 16,\n",
       "                                                                 18, 22, 25, 30,\n",
       "                                                                 35, 41, 48, 57,\n",
       "                                                                 67, 78, 92,\n",
       "                                                                 108, 126, 148,\n",
       "                                                                 174, 204, 239,\n",
       "                                                                 280, 329, 385,\n",
       "                                                                 452, 529, 621,\n",
       "                                                                 727, 853,\n",
       "                                                                 1000],\n",
       "                         'standardscaler': [StandardScaler(), None]})"
      ]
     },
     "execution_count": 231,
     "metadata": {},
     "output_type": "execute_result"
    }
   ],
   "source": [
    "rf_grid.fit(rf_X_train,rf_y_train)"
   ]
  },
  {
   "cell_type": "code",
   "execution_count": 232,
   "metadata": {},
   "outputs": [
    {
     "data": {
      "text/plain": [
       "{'randomforestregressor__max_features': 'auto',\n",
       " 'randomforestregressor__n_estimators': 11,\n",
       " 'standardscaler': StandardScaler()}"
      ]
     },
     "execution_count": 232,
     "metadata": {},
     "output_type": "execute_result"
    }
   ],
   "source": [
    "rf_grid.best_params_"
   ]
  },
  {
   "cell_type": "markdown",
   "metadata": {},
   "source": [
    "## Random Forest Model Performance"
   ]
  },
  {
   "cell_type": "code",
   "execution_count": 248,
   "metadata": {},
   "outputs": [
    {
     "name": "stdout",
     "output_type": "stream",
     "text": [
      "Cross-validated scores: [0.36885906 0.81983846 0.73805007 0.61598088 0.77173162]\n",
      "R-squared: 88.99\n",
      "The MAE is: 0.33\n",
      "The MSE is: 0.18\n"
     ]
    }
   ],
   "source": [
    "#Model Performance\n",
    "\n",
    "rf_score = cross_val_score(rf_grid.best_estimator_,X_train,y_train,cv=5)\n",
    "print('Cross-validated scores: {}'.format(rf_score))\n",
    "\n",
    "print('R-squared: {:.2f}'.format(rf_grid.score(X_train,y_train)*100))\n",
    "\n",
    "#MAE Score\n",
    "rf_y_pred = rf_grid.predict(rf_X_test) \n",
    "\n",
    "print('The MAE is: {:.2f}'.format(mean_absolute_error(rf_y_test, rf_y_pred)))\n",
    "print(\"The MSE is: {:.2f}\".format(mean_squared_error(rf_y_test, rf_y_pred)))"
   ]
  },
  {
   "cell_type": "markdown",
   "metadata": {},
   "source": [
    "Our model is 89% accurate with an average of 0.33 off the true value "
   ]
  },
  {
   "cell_type": "code",
   "execution_count": 234,
   "metadata": {},
   "outputs": [
    {
     "data": {
      "image/png": "[encoded data removed]",
      "text/plain": [
       "<Figure size 720x360 with 1 Axes>"
      ]
     },
     "metadata": {},
     "output_type": "display_data"
    }
   ],
   "source": [
    "plt.subplots(figsize=(10, 5))\n",
    "\n",
    "ax = plt.subplot()\n",
    "imps = rf_grid.best_estimator_.named_steps.randomforestregressor.feature_importances_\n",
    "rf_feat_imps = pd.Series(imps, index=rf_X_train.columns).sort_values(ascending=False)\n",
    "plots = sns.barplot(x = rf_feat_imps.index, y = rf_feat_imps)\n",
    "plt.xlabel('features')\n",
    "plt.ylabel('importance')\n",
    "plt.title('Best random forest regressor feature importances')\n",
    "\n",
    "for bar in plots.patches:\n",
    "    plots.annotate(format(bar.get_height(), '.2f'),\n",
    "                   (bar.get_x() + bar.get_width() / 2,\n",
    "                    bar.get_height()), ha='center', va='center',\n",
    "                   size=14, xytext=(0, 8),\n",
    "                   textcoords='offset points')"
   ]
  },
  {
   "cell_type": "markdown",
   "metadata": {},
   "source": [
    "Cryptocurrency is the most important trend that impacts the price, after that is a sharp decline with Dogecoin and Ethereum. "
   ]
  },
  {
   "cell_type": "markdown",
   "metadata": {},
   "source": [
    "## Model #3 - Ridge Regression "
   ]
  },
  {
   "cell_type": "markdown",
   "metadata": {},
   "source": [
    "Our Independent variables are correlated with each other. Lets use Ridge Regression model and see how it performs"
   ]
  },
  {
   "cell_type": "code",
   "execution_count": 235,
   "metadata": {},
   "outputs": [
    {
     "data": {
      "text/plain": [
       "GridSearchCV(cv=5,\n",
       "             estimator=Pipeline(steps=[('standardscaler', StandardScaler()),\n",
       "                                       ('ridge', Ridge())]),\n",
       "             n_jobs=-1,\n",
       "             param_grid={'ridge__alpha': [1e-15, 1e-10, 1e-08, 0.0001, 0.001,\n",
       "                                          0.01, 1, 5, 10, 20]})"
      ]
     },
     "execution_count": 235,
     "metadata": {},
     "output_type": "execute_result"
    }
   ],
   "source": [
    "from sklearn.linear_model import Ridge\n",
    "from sklearn.metrics import r2_score\n",
    "\n",
    "rr_pipe = make_pipeline(\n",
    "    StandardScaler(),\n",
    "    Ridge())\n",
    "\n",
    "grid_params = {\n",
    "        'ridge__alpha':[1e-15, 1e-10, 1e-8, 1e-4, 1e-3,1e-2, 1, 5, 10, 20]\n",
    "}\n",
    "\n",
    "ridge_reg= GridSearchCV(rr_pipe, grid_params,cv=5, n_jobs = -1)\n",
    "\n",
    "#fit the grid search\n",
    "ridge_reg.fit(rf_X_train,rf_y_train)"
   ]
  },
  {
   "cell_type": "code",
   "execution_count": 236,
   "metadata": {},
   "outputs": [
    {
     "data": {
      "text/plain": [
       "Pipeline(steps=[('standardscaler', StandardScaler()),\n",
       "                ('ridge', Ridge(alpha=1))])"
      ]
     },
     "execution_count": 236,
     "metadata": {},
     "output_type": "execute_result"
    }
   ],
   "source": [
    "ridge_reg.best_estimator_"
   ]
  },
  {
   "cell_type": "code",
   "execution_count": 237,
   "metadata": {},
   "outputs": [
    {
     "name": "stdout",
     "output_type": "stream",
     "text": [
      "Cross-validated scores: [0.07390063 0.76854843 0.54047685 0.44437004 0.8354972 ]\n"
     ]
    },
    {
     "data": {
      "text/plain": [
       "0.6590169453284854"
      ]
     },
     "execution_count": 237,
     "metadata": {},
     "output_type": "execute_result"
    }
   ],
   "source": [
    "ridge_score = cross_val_score(ridge_reg.best_estimator_,rf_X_train,rf_y_train,cv=5)\n",
    "print('Cross-validated scores: {}'.format(ridge_score))\n",
    "\n",
    "ridge_reg.score(rf_X_train,rf_y_train)"
   ]
  },
  {
   "cell_type": "code",
   "execution_count": 239,
   "metadata": {},
   "outputs": [
    {
     "name": "stdout",
     "output_type": "stream",
     "text": [
      "Ridge Regression R squared: 65.90\n",
      "The MAE is: 0.42\n",
      "The MSE is: 0.27\n"
     ]
    }
   ],
   "source": [
    "#MSE Score\n",
    "#MAE Score\n",
    "rr_y_pred = ridge_reg.predict(rf_X_test) \n",
    "\n",
    "print('Ridge Regression R squared: {:.2f}'.format(ridge_reg.score(rf_X_train,rf_y_train) * 100))\n",
    "print('The MAE is: {:.2f}'.format(mean_absolute_error(rf_y_test, rr_y_pred)))\n",
    "\n",
    "print(\"The MSE is: {:.2f}\".format(mean_squared_error(rf_y_test, rr_y_pred)))"
   ]
  },
  {
   "cell_type": "markdown",
   "metadata": {},
   "source": [
    "Our model is 80.6% accurate. Our predictitions are an average of 0.40 from the true value"
   ]
  },
  {
   "cell_type": "markdown",
   "metadata": {},
   "source": [
    "## Finding the right model"
   ]
  },
  {
   "cell_type": "markdown",
   "metadata": {},
   "source": [
    "Lets look at performance for linear regression and Random forest again"
   ]
  },
  {
   "cell_type": "code",
   "execution_count": 242,
   "metadata": {},
   "outputs": [
    {
     "name": "stdout",
     "output_type": "stream",
     "text": [
      "Linear Regression R-squared: 65.91\n",
      "The MAE is: 0.42\n",
      "The MSE is: 0.27\n"
     ]
    }
   ],
   "source": [
    "#Linear Regression Model Performance\n",
    "r_sq = reg.score(X_train, y_train)\n",
    "print('Linear Regression R-squared: {:.2f}'.format(r_sq * 100))\n",
    "print('The MAE is: {:.2f}'.format(mean_absolute_error(y_test, y_pred)))\n",
    "print(\"The MSE is: {:.2f}\".format(mean_squared_error(y_test, y_pred)))"
   ]
  },
  {
   "cell_type": "code",
   "execution_count": 243,
   "metadata": {},
   "outputs": [
    {
     "name": "stdout",
     "output_type": "stream",
     "text": [
      "Random Forest R-squared: 88.99\n",
      "The MAE is: 0.33\n",
      "The MSE is: 0.18\n"
     ]
    }
   ],
   "source": [
    "#Random Forest Model Performance\n",
    "print('Random Forest R-squared: {:.2f}'.format(rf_grid.score(rf_X_train,rf_y_train)*100))\n",
    "print('The MAE is: {:.2f}'.format(mean_absolute_error(rf_y_test, rf_y_pred)))\n",
    "print(\"The MSE is: {:.2f}\".format(mean_squared_error(rf_y_test, rf_y_pred)))"
   ]
  },
  {
   "cell_type": "markdown",
   "metadata": {},
   "source": [
    "Random Forest has the highest model accuracy and the lowest MAE and MSE. \n",
    "\n",
    "For those reasons we choose Random Forest as our model for this problem. \n"
   ]
  },
  {
   "cell_type": "markdown",
   "metadata": {},
   "source": [
    "In our feature importance visualization for Random Forest, we can see that the google search trend \"Cryptocurrency\" has the most impact on the price of cryptocurrencies. After that is a sharp decline, with Dogecoin and Ethereum.\n",
    "\n",
    "We might be able to hypothesize that Dogecoin is a much more voliate cryptocurency and depends heavily on consumer interest to keep the price at a certain level. "
   ]
  },
  {
   "cell_type": "code",
   "execution_count": null,
   "metadata": {},
   "outputs": [],
   "source": []
  }
 ],
 "metadata": {
  "kernelspec": {
   "display_name": "Python 3",
   "language": "python",
   "name": "python3"
  },
  "language_info": {
   "codemirror_mode": {
    "name": "ipython",
    "version": 3
   },
   "file_extension": ".py",
   "mimetype": "text/x-python",
   "name": "python",
   "nbconvert_exporter": "python",
   "pygments_lexer": "ipython3",
   "version": "3.8.5"
  }
 },
 "nbformat": 4,
 "nbformat_minor": 4
}
