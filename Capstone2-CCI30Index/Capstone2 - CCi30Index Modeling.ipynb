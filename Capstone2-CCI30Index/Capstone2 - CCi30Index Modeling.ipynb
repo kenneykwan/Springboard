{
 "cells": [
  {
   "cell_type": "code",
   "execution_count": 1,
   "metadata": {},
   "outputs": [],
   "source": [
    "#import libraries\n",
    "import pandas as pd\n",
    "import numpy as np\n",
    "import matplotlib.pyplot as plt\n",
    "import seaborn as sns\n",
    "import numpy as np\n",
    "from sklearn.linear_model import LinearRegression\n",
    "from sklearn.model_selection import train_test_split"
   ]
  },
  {
   "cell_type": "code",
   "execution_count": 2,
   "metadata": {},
   "outputs": [],
   "source": [
    "#Run a linear regression model on PCA_Dataset_With_Mean and GoogleTrendsTimelineCleaned\n",
    "#load data\n",
    "pca_dataset = pd.read_csv('./Data/PCA_Dataset_With_Mean.csv',index_col = 0)\n",
    "gtrends = pd.read_csv('./Data/GoogleTrendsCleaned.csv', index_col=0)"
   ]
  },
  {
   "cell_type": "code",
   "execution_count": 3,
   "metadata": {},
   "outputs": [],
   "source": [
    "pca_dataset.index = pd.to_datetime(pca_dataset.index)\n",
    "gtrends.index = pd.to_datetime(gtrends.index)\n"
   ]
  },
  {
   "cell_type": "code",
   "execution_count": 4,
   "metadata": {},
   "outputs": [
    {
     "data": {
      "text/html": [
       "<div>\n",
       "<style scoped>\n",
       "    .dataframe tbody tr th:only-of-type {\n",
       "        vertical-align: middle;\n",
       "    }\n",
       "\n",
       "    .dataframe tbody tr th {\n",
       "        vertical-align: top;\n",
       "    }\n",
       "\n",
       "    .dataframe thead th {\n",
       "        text-align: right;\n",
       "    }\n",
       "</style>\n",
       "<table border=\"1\" class=\"dataframe\">\n",
       "  <thead>\n",
       "    <tr style=\"text-align: right;\">\n",
       "      <th></th>\n",
       "      <th>PCA_mean</th>\n",
       "    </tr>\n",
       "    <tr>\n",
       "      <th>Date</th>\n",
       "      <th></th>\n",
       "    </tr>\n",
       "  </thead>\n",
       "  <tbody>\n",
       "    <tr>\n",
       "      <th>2018-10-07</th>\n",
       "      <td>1.254750</td>\n",
       "    </tr>\n",
       "    <tr>\n",
       "      <th>2018-10-14</th>\n",
       "      <td>2.054040</td>\n",
       "    </tr>\n",
       "    <tr>\n",
       "      <th>2018-10-21</th>\n",
       "      <td>1.407196</td>\n",
       "    </tr>\n",
       "    <tr>\n",
       "      <th>2018-10-28</th>\n",
       "      <td>0.951141</td>\n",
       "    </tr>\n",
       "    <tr>\n",
       "      <th>2018-11-04</th>\n",
       "      <td>1.020075</td>\n",
       "    </tr>\n",
       "    <tr>\n",
       "      <th>...</th>\n",
       "      <td>...</td>\n",
       "    </tr>\n",
       "    <tr>\n",
       "      <th>2021-06-27</th>\n",
       "      <td>1.845474</td>\n",
       "    </tr>\n",
       "    <tr>\n",
       "      <th>2021-07-04</th>\n",
       "      <td>1.763994</td>\n",
       "    </tr>\n",
       "    <tr>\n",
       "      <th>2021-07-11</th>\n",
       "      <td>1.498085</td>\n",
       "    </tr>\n",
       "    <tr>\n",
       "      <th>2021-07-18</th>\n",
       "      <td>1.488697</td>\n",
       "    </tr>\n",
       "    <tr>\n",
       "      <th>2021-07-25</th>\n",
       "      <td>1.807419</td>\n",
       "    </tr>\n",
       "  </tbody>\n",
       "</table>\n",
       "<p>147 rows × 1 columns</p>\n",
       "</div>"
      ],
      "text/plain": [
       "            PCA_mean\n",
       "Date                \n",
       "2018-10-07  1.254750\n",
       "2018-10-14  2.054040\n",
       "2018-10-21  1.407196\n",
       "2018-10-28  0.951141\n",
       "2018-11-04  1.020075\n",
       "...              ...\n",
       "2021-06-27  1.845474\n",
       "2021-07-04  1.763994\n",
       "2021-07-11  1.498085\n",
       "2021-07-18  1.488697\n",
       "2021-07-25  1.807419\n",
       "\n",
       "[147 rows x 1 columns]"
      ]
     },
     "execution_count": 4,
     "metadata": {},
     "output_type": "execute_result"
    }
   ],
   "source": [
    "pca_dataset = pd.DataFrame(pca_dataset['PCA_mean'])\n",
    "pca_dataset"
   ]
  },
  {
   "cell_type": "code",
   "execution_count": 5,
   "metadata": {},
   "outputs": [],
   "source": [
    "gtrends.index.rename('Date', inplace = True)"
   ]
  },
  {
   "cell_type": "code",
   "execution_count": 6,
   "metadata": {
    "scrolled": false
   },
   "outputs": [
    {
     "data": {
      "text/plain": [
       "[Text(0, 0.5, 'Cryptocurrency_gs'),\n",
       " Text(0, 1.5, 'Bitcoin_gs'),\n",
       " Text(0, 2.5, 'Ethereum_gs'),\n",
       " Text(0, 3.5, 'XRP_gs'),\n",
       " Text(0, 4.5, 'Dogecoin_gs')]"
      ]
     },
     "execution_count": 6,
     "metadata": {},
     "output_type": "execute_result"
    },
    {
     "data": {
      "image/png": "[encoded data removed]",
      "text/plain": [
       "<Figure size 432x288 with 2 Axes>"
      ]
     },
     "metadata": {
      "needs_background": "light"
     },
     "output_type": "display_data"
    }
   ],
   "source": [
    "#Check for colinearity in google trends dataset\n",
    "\n",
    "corr = gtrends.corr()\n",
    "ax = sns.heatmap(\n",
    "    corr, \n",
    "    vmin=-1, vmax=1, center=0,\n",
    "    cmap=sns.diverging_palette(20, 220, n=200),\n",
    "    square=True,\n",
    "    annot=True\n",
    ")\n",
    "ax.set_xticklabels(\n",
    "    ax.get_xticklabels(),\n",
    "    rotation=20)\n",
    "ax.set_yticklabels(ax.get_yticklabels(), rotation =0)"
   ]
  },
  {
   "cell_type": "code",
   "execution_count": 7,
   "metadata": {},
   "outputs": [],
   "source": [
    "#This data is highly correlated. We need to decorrelate these columns. "
   ]
  },
  {
   "cell_type": "code",
   "execution_count": 8,
   "metadata": {},
   "outputs": [],
   "source": [
    "gtrends.drop('Cryptocurrency_gs', axis = 1, inplace = True)\n",
    "\n",
    "gtrends['Ether_Doge_gs'] = (gtrends['Ethereum_gs'] + gtrends['Dogecoin_gs'])/2\n",
    "gtrends.drop(['Ethereum_gs','Dogecoin_gs'],axis = 1, inplace = True)"
   ]
  },
  {
   "cell_type": "code",
   "execution_count": 9,
   "metadata": {
    "scrolled": false
   },
   "outputs": [
    {
     "data": {
      "text/plain": [
       "[Text(0, 0.5, 'Bitcoin_gs'),\n",
       " Text(0, 1.5, 'XRP_gs'),\n",
       " Text(0, 2.5, 'Ether_Doge_gs')]"
      ]
     },
     "execution_count": 9,
     "metadata": {},
     "output_type": "execute_result"
    },
    {
     "data": {
      "image/png": "[encoded data removed]",
      "text/plain": [
       "<Figure size 432x288 with 2 Axes>"
      ]
     },
     "metadata": {
      "needs_background": "light"
     },
     "output_type": "display_data"
    }
   ],
   "source": [
    "corr = gtrends.corr()\n",
    "ax = sns.heatmap(\n",
    "    corr, \n",
    "    vmin=-1, vmax=1, center=0,\n",
    "    cmap=sns.diverging_palette(20, 220, n=200),\n",
    "    square=True,\n",
    "    annot=True\n",
    ")\n",
    "ax.set_xticklabels(\n",
    "    ax.get_xticklabels(),\n",
    "    rotation=20)\n",
    "ax.set_yticklabels(ax.get_yticklabels(), rotation =0)"
   ]
  },
  {
   "cell_type": "code",
   "execution_count": 10,
   "metadata": {},
   "outputs": [],
   "source": [
    "trends_price = gtrends.merge(pca_dataset, on='Date', left_index = True)"
   ]
  },
  {
   "cell_type": "code",
   "execution_count": 11,
   "metadata": {},
   "outputs": [],
   "source": [
    "trends_price = trends_price[50:]"
   ]
  },
  {
   "cell_type": "code",
   "execution_count": 12,
   "metadata": {
    "scrolled": false
   },
   "outputs": [
    {
     "data": {
      "image/png": "[encoded data removed]",
      "text/plain": [
       "<Figure size 1080x720 with 1 Axes>"
      ]
     },
     "metadata": {},
     "output_type": "display_data"
    }
   ],
   "source": [
    "sns.set(rc={'figure.figsize':(15,10)})\n",
    "sns.scatterplot(x=trends_price['Bitcoin_gs'],y=trends_price['PCA_mean'])\n",
    "sns.scatterplot(x=trends_price['XRP_gs'],y=trends_price['PCA_mean'])\n",
    "sns.scatterplot(x=trends_price['Ether_Doge_gs'],y=trends_price['PCA_mean'])\n",
    "plt.legend(labels=['Bitcoin_gs', 'XRP_gs' ,'Ether_Doge_gs'])\n",
    "plt.show()"
   ]
  },
  {
   "cell_type": "code",
   "execution_count": 13,
   "metadata": {},
   "outputs": [
    {
     "data": {
      "text/html": [
       "<div>\n",
       "<style scoped>\n",
       "    .dataframe tbody tr th:only-of-type {\n",
       "        vertical-align: middle;\n",
       "    }\n",
       "\n",
       "    .dataframe tbody tr th {\n",
       "        vertical-align: top;\n",
       "    }\n",
       "\n",
       "    .dataframe thead th {\n",
       "        text-align: right;\n",
       "    }\n",
       "</style>\n",
       "<table border=\"1\" class=\"dataframe\">\n",
       "  <thead>\n",
       "    <tr style=\"text-align: right;\">\n",
       "      <th></th>\n",
       "      <th>Bitcoin_gs</th>\n",
       "      <th>XRP_gs</th>\n",
       "      <th>Ether_Doge_gs</th>\n",
       "      <th>PCA_mean</th>\n",
       "    </tr>\n",
       "    <tr>\n",
       "      <th>Date</th>\n",
       "      <th></th>\n",
       "      <th></th>\n",
       "      <th></th>\n",
       "      <th></th>\n",
       "    </tr>\n",
       "  </thead>\n",
       "  <tbody>\n",
       "    <tr>\n",
       "      <th>2019-09-22</th>\n",
       "      <td>35</td>\n",
       "      <td>0</td>\n",
       "      <td>0.5</td>\n",
       "      <td>0.792942</td>\n",
       "    </tr>\n",
       "    <tr>\n",
       "      <th>2019-09-29</th>\n",
       "      <td>10</td>\n",
       "      <td>0</td>\n",
       "      <td>0.5</td>\n",
       "      <td>0.831580</td>\n",
       "    </tr>\n",
       "    <tr>\n",
       "      <th>2019-10-06</th>\n",
       "      <td>10</td>\n",
       "      <td>1</td>\n",
       "      <td>0.5</td>\n",
       "      <td>0.806428</td>\n",
       "    </tr>\n",
       "    <tr>\n",
       "      <th>2019-10-13</th>\n",
       "      <td>9</td>\n",
       "      <td>1</td>\n",
       "      <td>0.5</td>\n",
       "      <td>0.766962</td>\n",
       "    </tr>\n",
       "    <tr>\n",
       "      <th>2019-10-20</th>\n",
       "      <td>11</td>\n",
       "      <td>0</td>\n",
       "      <td>0.5</td>\n",
       "      <td>0.749864</td>\n",
       "    </tr>\n",
       "    <tr>\n",
       "      <th>...</th>\n",
       "      <td>...</td>\n",
       "      <td>...</td>\n",
       "      <td>...</td>\n",
       "      <td>...</td>\n",
       "    </tr>\n",
       "    <tr>\n",
       "      <th>2021-06-27</th>\n",
       "      <td>30</td>\n",
       "      <td>1</td>\n",
       "      <td>5.5</td>\n",
       "      <td>1.845474</td>\n",
       "    </tr>\n",
       "    <tr>\n",
       "      <th>2021-07-04</th>\n",
       "      <td>24</td>\n",
       "      <td>1</td>\n",
       "      <td>5.0</td>\n",
       "      <td>1.763994</td>\n",
       "    </tr>\n",
       "    <tr>\n",
       "      <th>2021-07-11</th>\n",
       "      <td>23</td>\n",
       "      <td>1</td>\n",
       "      <td>4.5</td>\n",
       "      <td>1.498085</td>\n",
       "    </tr>\n",
       "    <tr>\n",
       "      <th>2021-07-18</th>\n",
       "      <td>27</td>\n",
       "      <td>1</td>\n",
       "      <td>4.5</td>\n",
       "      <td>1.488697</td>\n",
       "    </tr>\n",
       "    <tr>\n",
       "      <th>2021-07-25</th>\n",
       "      <td>31</td>\n",
       "      <td>1</td>\n",
       "      <td>5.0</td>\n",
       "      <td>1.807419</td>\n",
       "    </tr>\n",
       "  </tbody>\n",
       "</table>\n",
       "<p>97 rows × 4 columns</p>\n",
       "</div>"
      ],
      "text/plain": [
       "            Bitcoin_gs  XRP_gs  Ether_Doge_gs  PCA_mean\n",
       "Date                                                   \n",
       "2019-09-22          35       0            0.5  0.792942\n",
       "2019-09-29          10       0            0.5  0.831580\n",
       "2019-10-06          10       1            0.5  0.806428\n",
       "2019-10-13           9       1            0.5  0.766962\n",
       "2019-10-20          11       0            0.5  0.749864\n",
       "...                ...     ...            ...       ...\n",
       "2021-06-27          30       1            5.5  1.845474\n",
       "2021-07-04          24       1            5.0  1.763994\n",
       "2021-07-11          23       1            4.5  1.498085\n",
       "2021-07-18          27       1            4.5  1.488697\n",
       "2021-07-25          31       1            5.0  1.807419\n",
       "\n",
       "[97 rows x 4 columns]"
      ]
     },
     "execution_count": 13,
     "metadata": {},
     "output_type": "execute_result"
    }
   ],
   "source": [
    "trends_price"
   ]
  },
  {
   "cell_type": "code",
   "execution_count": 14,
   "metadata": {},
   "outputs": [],
   "source": [
    "#Create Train Test Spilt\n",
    "\n",
    "X = trends_price.drop('PCA_mean', axis =1)\n",
    "y = trends_price['PCA_mean']\n",
    "\n",
    "X_train, X_test,y_train,y_test = train_test_split(X,y,test_size =0.2, random_state = 5)"
   ]
  },
  {
   "cell_type": "code",
   "execution_count": 15,
   "metadata": {},
   "outputs": [],
   "source": [
    "from sklearn.preprocessing import StandardScaler\n",
    "from sklearn.metrics import mean_squared_error\n",
    "from sklearn.metrics import mean_absolute_error\n",
    "from sklearn.model_selection import cross_val_score\n",
    "from sklearn.model_selection import cross_validate\n",
    "\n",
    "\n",
    "sc = StandardScaler()\n",
    "\n",
    "X_train = sc.fit_transform(X_train)\n",
    "\n",
    "X_test = sc.transform (X_test)"
   ]
  },
  {
   "cell_type": "code",
   "execution_count": 16,
   "metadata": {},
   "outputs": [
    {
     "name": "stdout",
     "output_type": "stream",
     "text": [
      "R-squared: 72.07\n"
     ]
    }
   ],
   "source": [
    "reg = LinearRegression()\n",
    "reg.fit(X_train,y_train)\n",
    "\n",
    "r_sq = reg.score(X_train, y_train)\n",
    "print('R-squared: {:.2f}'.format(r_sq * 100))\n",
    "\n",
    "y_pred=reg.predict(X_test)"
   ]
  },
  {
   "cell_type": "markdown",
   "metadata": {},
   "source": [
    "Our model is about 48.9% accurate"
   ]
  },
  {
   "cell_type": "code",
   "execution_count": 17,
   "metadata": {},
   "outputs": [
    {
     "name": "stdout",
     "output_type": "stream",
     "text": [
      "The MSE is: 0.1874757249631247\n",
      "The MAE is: 0.29424637398734066\n"
     ]
    }
   ],
   "source": [
    "print(\"The MSE is: {}\".format(mean_squared_error(y_test, y_pred)))\n",
    "print('The MAE is: {}'.format(mean_absolute_error(y_test, y_pred)))"
   ]
  },
  {
   "cell_type": "markdown",
   "metadata": {},
   "source": [
    "From the MAE, on average our prediction is about 0.46 off from the true value"
   ]
  },
  {
   "cell_type": "code",
   "execution_count": 18,
   "metadata": {},
   "outputs": [
    {
     "name": "stdout",
     "output_type": "stream",
     "text": [
      "Cross-validated scores: [0.65679017 0.56679915 0.8473573  0.56261485 0.45346078]\n"
     ]
    }
   ],
   "source": [
    "#Cross Validate\n",
    "#Task 2 - Am i doing this wrong?\n",
    "score = cross_val_score(reg,X_train,y_train,cv=5)\n",
    "print('Cross-validated scores: {}'.format(score))"
   ]
  },
  {
   "cell_type": "code",
   "execution_count": 19,
   "metadata": {},
   "outputs": [],
   "source": [
    "#Stats Model\n",
    "import statsmodels.api as sm\n",
    "\n",
    "X2 = sm.add_constant(X)\n",
    "\n",
    "regstats = sm.OLS(y,X2)\n",
    "stats= regstats.fit()\n",
    "pred = stats.predict()"
   ]
  },
  {
   "cell_type": "code",
   "execution_count": 20,
   "metadata": {},
   "outputs": [
    {
     "data": {
      "text/html": [
       "<table class=\"simpletable\">\n",
       "<caption>OLS Regression Results</caption>\n",
       "<tr>\n",
       "  <th>Dep. Variable:</th>        <td>PCA_mean</td>     <th>  R-squared:         </th> <td>   0.705</td>\n",
       "</tr>\n",
       "<tr>\n",
       "  <th>Model:</th>                   <td>OLS</td>       <th>  Adj. R-squared:    </th> <td>   0.696</td>\n",
       "</tr>\n",
       "<tr>\n",
       "  <th>Method:</th>             <td>Least Squares</td>  <th>  F-statistic:       </th> <td>   74.17</td>\n",
       "</tr>\n",
       "<tr>\n",
       "  <th>Date:</th>             <td>Wed, 18 Aug 2021</td> <th>  Prob (F-statistic):</th> <td>1.40e-24</td>\n",
       "</tr>\n",
       "<tr>\n",
       "  <th>Time:</th>                 <td>22:28:39</td>     <th>  Log-Likelihood:    </th> <td> -74.499</td>\n",
       "</tr>\n",
       "<tr>\n",
       "  <th>No. Observations:</th>      <td>    97</td>      <th>  AIC:               </th> <td>   157.0</td>\n",
       "</tr>\n",
       "<tr>\n",
       "  <th>Df Residuals:</th>          <td>    93</td>      <th>  BIC:               </th> <td>   167.3</td>\n",
       "</tr>\n",
       "<tr>\n",
       "  <th>Df Model:</th>              <td>     3</td>      <th>                     </th>     <td> </td>   \n",
       "</tr>\n",
       "<tr>\n",
       "  <th>Covariance Type:</th>      <td>nonrobust</td>    <th>                     </th>     <td> </td>   \n",
       "</tr>\n",
       "</table>\n",
       "<table class=\"simpletable\">\n",
       "<tr>\n",
       "        <td></td>           <th>coef</th>     <th>std err</th>      <th>t</th>      <th>P>|t|</th>  <th>[0.025</th>    <th>0.975]</th>  \n",
       "</tr>\n",
       "<tr>\n",
       "  <th>const</th>         <td>    0.7311</td> <td>    0.098</td> <td>    7.456</td> <td> 0.000</td> <td>    0.536</td> <td>    0.926</td>\n",
       "</tr>\n",
       "<tr>\n",
       "  <th>Bitcoin_gs</th>    <td>    0.0002</td> <td>    0.005</td> <td>    0.050</td> <td> 0.960</td> <td>   -0.010</td> <td>    0.010</td>\n",
       "</tr>\n",
       "<tr>\n",
       "  <th>XRP_gs</th>        <td>    0.0119</td> <td>    0.060</td> <td>    0.199</td> <td> 0.843</td> <td>   -0.107</td> <td>    0.130</td>\n",
       "</tr>\n",
       "<tr>\n",
       "  <th>Ether_Doge_gs</th> <td>    0.1425</td> <td>    0.016</td> <td>    8.685</td> <td> 0.000</td> <td>    0.110</td> <td>    0.175</td>\n",
       "</tr>\n",
       "</table>\n",
       "<table class=\"simpletable\">\n",
       "<tr>\n",
       "  <th>Omnibus:</th>       <td>10.647</td> <th>  Durbin-Watson:     </th> <td>   0.591</td>\n",
       "</tr>\n",
       "<tr>\n",
       "  <th>Prob(Omnibus):</th> <td> 0.005</td> <th>  Jarque-Bera (JB):  </th> <td>  28.504</td>\n",
       "</tr>\n",
       "<tr>\n",
       "  <th>Skew:</th>          <td> 0.062</td> <th>  Prob(JB):          </th> <td>6.46e-07</td>\n",
       "</tr>\n",
       "<tr>\n",
       "  <th>Kurtosis:</th>      <td> 5.653</td> <th>  Cond. No.          </th> <td>    52.6</td>\n",
       "</tr>\n",
       "</table><br/><br/>Notes:<br/>[1] Standard Errors assume that the covariance matrix of the errors is correctly specified."
      ],
      "text/plain": [
       "<class 'statsmodels.iolib.summary.Summary'>\n",
       "\"\"\"\n",
       "                            OLS Regression Results                            \n",
       "==============================================================================\n",
       "Dep. Variable:               PCA_mean   R-squared:                       0.705\n",
       "Model:                            OLS   Adj. R-squared:                  0.696\n",
       "Method:                 Least Squares   F-statistic:                     74.17\n",
       "Date:                Wed, 18 Aug 2021   Prob (F-statistic):           1.40e-24\n",
       "Time:                        22:28:39   Log-Likelihood:                -74.499\n",
       "No. Observations:                  97   AIC:                             157.0\n",
       "Df Residuals:                      93   BIC:                             167.3\n",
       "Df Model:                           3                                         \n",
       "Covariance Type:            nonrobust                                         \n",
       "=================================================================================\n",
       "                    coef    std err          t      P>|t|      [0.025      0.975]\n",
       "---------------------------------------------------------------------------------\n",
       "const             0.7311      0.098      7.456      0.000       0.536       0.926\n",
       "Bitcoin_gs        0.0002      0.005      0.050      0.960      -0.010       0.010\n",
       "XRP_gs            0.0119      0.060      0.199      0.843      -0.107       0.130\n",
       "Ether_Doge_gs     0.1425      0.016      8.685      0.000       0.110       0.175\n",
       "==============================================================================\n",
       "Omnibus:                       10.647   Durbin-Watson:                   0.591\n",
       "Prob(Omnibus):                  0.005   Jarque-Bera (JB):               28.504\n",
       "Skew:                           0.062   Prob(JB):                     6.46e-07\n",
       "Kurtosis:                       5.653   Cond. No.                         52.6\n",
       "==============================================================================\n",
       "\n",
       "Notes:\n",
       "[1] Standard Errors assume that the covariance matrix of the errors is correctly specified.\n",
       "\"\"\""
      ]
     },
     "execution_count": 20,
     "metadata": {},
     "output_type": "execute_result"
    }
   ],
   "source": [
    "stats.summary()"
   ]
  },
  {
   "cell_type": "markdown",
   "metadata": {},
   "source": [
    "## Model 2 - Random Forest with GridSearchCV"
   ]
  },
  {
   "cell_type": "code",
   "execution_count": 21,
   "metadata": {},
   "outputs": [],
   "source": [
    "from sklearn.ensemble import RandomForestRegressor\n",
    "from sklearn.model_selection import GridSearchCV\n",
    "from sklearn.pipeline import make_pipeline\n",
    "\n",
    "#Remake X, y test spilt based on all Google trends\n",
    "rf_X = trends_price.drop('PCA_mean',axis =1)\n",
    "rf_y = trends_price['PCA_mean']\n",
    "\n",
    "rf_X_train, rf_X_test,rf_y_train,rf_y_test = train_test_split(rf_X,rf_y,test_size =0.2,random_state =5)\n",
    "\n",
    "\n",
    "rf_pipe = make_pipeline(\n",
    "    StandardScaler(),\n",
    "RandomForestRegressor())\n",
    "\n",
    "max_features = ['auto', 'sqrt']\n",
    "n_est = np.arange(start = 1, stop = 100, step = 2)\n",
    "\n",
    "\n",
    "grid_params = {\n",
    "        'randomforestregressor__n_estimators': n_est,\n",
    "        'standardscaler': [StandardScaler(), None],\n",
    "    'randomforestregressor__max_features':max_features\n",
    "}"
   ]
  },
  {
   "cell_type": "code",
   "execution_count": 22,
   "metadata": {},
   "outputs": [],
   "source": [
    "rf_grid = GridSearchCV(rf_pipe, param_grid=grid_params, cv=5, n_jobs=-1)"
   ]
  },
  {
   "cell_type": "code",
   "execution_count": 23,
   "metadata": {},
   "outputs": [
    {
     "data": {
      "text/plain": [
       "GridSearchCV(cv=5,\n",
       "             estimator=Pipeline(steps=[('standardscaler', StandardScaler()),\n",
       "                                       ('randomforestregressor',\n",
       "                                        RandomForestRegressor())]),\n",
       "             n_jobs=-1,\n",
       "             param_grid={'randomforestregressor__max_features': ['auto',\n",
       "                                                                 'sqrt'],\n",
       "                         'randomforestregressor__n_estimators': array([ 1,  3,  5,  7,  9, 11, 13, 15, 17, 19, 21, 23, 25, 27, 29, 31, 33,\n",
       "       35, 37, 39, 41, 43, 45, 47, 49, 51, 53, 55, 57, 59, 61, 63, 65, 67,\n",
       "       69, 71, 73, 75, 77, 79, 81, 83, 85, 87, 89, 91, 93, 95, 97, 99]),\n",
       "                         'standardscaler': [StandardScaler(), None]})"
      ]
     },
     "execution_count": 23,
     "metadata": {},
     "output_type": "execute_result"
    }
   ],
   "source": [
    "rf_grid.fit(rf_X_train,rf_y_train)"
   ]
  },
  {
   "cell_type": "code",
   "execution_count": 24,
   "metadata": {},
   "outputs": [
    {
     "data": {
      "text/plain": [
       "{'randomforestregressor__max_features': 'auto',\n",
       " 'randomforestregressor__n_estimators': 17,\n",
       " 'standardscaler': StandardScaler()}"
      ]
     },
     "execution_count": 24,
     "metadata": {},
     "output_type": "execute_result"
    }
   ],
   "source": [
    "rf_grid.best_params_"
   ]
  },
  {
   "cell_type": "markdown",
   "metadata": {},
   "source": [
    "## Random Forest Model Performance"
   ]
  },
  {
   "cell_type": "code",
   "execution_count": 25,
   "metadata": {},
   "outputs": [
    {
     "name": "stdout",
     "output_type": "stream",
     "text": [
      "Cross-validated scores: [0.63684051 0.64634894 0.87704162 0.63210403 0.5970092 ]\n",
      "R-squared: 93.92\n",
      "The MAE is: 0.18\n",
      "The MSE is: 0.07\n"
     ]
    }
   ],
   "source": [
    "#Model Performance\n",
    "\n",
    "rf_score = cross_val_score(rf_grid.best_estimator_,rf_X_train,rf_y_train,cv=5)\n",
    "print('Cross-validated scores: {}'.format(rf_score))\n",
    "\n",
    "print('R-squared: {:.2f}'.format(rf_grid.score(rf_X_train,rf_y_train)*100))\n",
    "\n",
    "#MAE Score\n",
    "rf_y_pred = rf_grid.predict(rf_X_test) \n",
    "\n",
    "print('The MAE is: {:.2f}'.format(mean_absolute_error(rf_y_test, rf_y_pred)))\n",
    "print(\"The MSE is: {:.2f}\".format(mean_squared_error(rf_y_test, rf_y_pred)))"
   ]
  },
  {
   "cell_type": "markdown",
   "metadata": {},
   "source": [
    "Our model is 89% accurate with an average of 0.33 off the true value "
   ]
  },
  {
   "cell_type": "code",
   "execution_count": 26,
   "metadata": {},
   "outputs": [
    {
     "data": {
      "image/png": "[encoded data removed]",
      "text/plain": [
       "<Figure size 720x360 with 1 Axes>"
      ]
     },
     "metadata": {},
     "output_type": "display_data"
    }
   ],
   "source": [
    "plt.subplots(figsize=(10, 5))\n",
    "\n",
    "ax = plt.subplot()\n",
    "imps = rf_grid.best_estimator_.named_steps.randomforestregressor.feature_importances_\n",
    "rf_feat_imps = pd.Series(imps, index=rf_X_train.columns).sort_values(ascending=False)\n",
    "plots = sns.barplot(x = rf_feat_imps.index, y = rf_feat_imps)\n",
    "plt.xlabel('features')\n",
    "plt.ylabel('importance')\n",
    "plt.title('Best random forest regressor feature importances')\n",
    "\n",
    "for bar in plots.patches:\n",
    "    plots.annotate(format(bar.get_height(), '.2f'),\n",
    "                   (bar.get_x() + bar.get_width() / 2,\n",
    "                    bar.get_height()), ha='center', va='center',\n",
    "                   size=14, xytext=(0, 8),\n",
    "                   textcoords='offset points')"
   ]
  },
  {
   "cell_type": "markdown",
   "metadata": {},
   "source": [
    "Cryptocurrency is the most important trend that impacts the price, after that is a sharp decline with Dogecoin and Ethereum. "
   ]
  },
  {
   "cell_type": "markdown",
   "metadata": {},
   "source": [
    "## Model #3 - Ridge Regression "
   ]
  },
  {
   "cell_type": "markdown",
   "metadata": {},
   "source": [
    "Our Independent variables are correlated with each other. Lets use Ridge Regression model and see how it performs"
   ]
  },
  {
   "cell_type": "code",
   "execution_count": 27,
   "metadata": {},
   "outputs": [
    {
     "data": {
      "text/plain": [
       "GridSearchCV(cv=5,\n",
       "             estimator=Pipeline(steps=[('standardscaler', StandardScaler()),\n",
       "                                       ('ridge', Ridge())]),\n",
       "             n_jobs=-1,\n",
       "             param_grid={'ridge__alpha': [1e-15, 1e-10, 1e-08, 0.0001, 0.001,\n",
       "                                          0.01, 1, 5, 10, 20]})"
      ]
     },
     "execution_count": 27,
     "metadata": {},
     "output_type": "execute_result"
    }
   ],
   "source": [
    "from sklearn.linear_model import Ridge\n",
    "from sklearn.metrics import r2_score\n",
    "\n",
    "rr_pipe = make_pipeline(\n",
    "    StandardScaler(),\n",
    "    Ridge())\n",
    "\n",
    "grid_params = {\n",
    "        'ridge__alpha':[1e-15, 1e-10, 1e-8, 1e-4, 1e-3,1e-2, 1, 5, 10, 20]\n",
    "}\n",
    "\n",
    "ridge_reg= GridSearchCV(rr_pipe, grid_params,cv=5, n_jobs = -1)\n",
    "\n",
    "#fit the grid search\n",
    "ridge_reg.fit(rf_X_train,rf_y_train)"
   ]
  },
  {
   "cell_type": "code",
   "execution_count": 28,
   "metadata": {},
   "outputs": [
    {
     "data": {
      "text/plain": [
       "{'ridge__alpha': 5}"
      ]
     },
     "execution_count": 28,
     "metadata": {},
     "output_type": "execute_result"
    }
   ],
   "source": [
    "ridge_reg.best_params_"
   ]
  },
  {
   "cell_type": "code",
   "execution_count": 29,
   "metadata": {},
   "outputs": [
    {
     "name": "stdout",
     "output_type": "stream",
     "text": [
      "Cross-validated scores: [0.66546497 0.57924781 0.81708355 0.54537668 0.49814297]\n"
     ]
    }
   ],
   "source": [
    "ridge_score = cross_val_score(ridge_reg.best_estimator_,rf_X_train,rf_y_train,cv=5)\n",
    "print('Cross-validated scores: {}'.format(ridge_score))"
   ]
  },
  {
   "cell_type": "code",
   "execution_count": 30,
   "metadata": {},
   "outputs": [
    {
     "name": "stdout",
     "output_type": "stream",
     "text": [
      "Ridge Regression R squared: 71.63\n",
      "The MAE is: 0.30\n",
      "The MSE is: 0.20\n"
     ]
    }
   ],
   "source": [
    "#MSE Score\n",
    "#MAE Score\n",
    "rr_y_pred = ridge_reg.predict(rf_X_test) \n",
    "\n",
    "print('Ridge Regression R squared: {:.2f}'.format(ridge_reg.score(rf_X_train,rf_y_train) * 100))\n",
    "print('The MAE is: {:.2f}'.format(mean_absolute_error(rf_y_test, rr_y_pred)))\n",
    "\n",
    "print(\"The MSE is: {:.2f}\".format(mean_squared_error(rf_y_test, rr_y_pred)))"
   ]
  },
  {
   "cell_type": "markdown",
   "metadata": {},
   "source": [
    "Our model is 80.6% accurate. Our predictitions are an average of 0.40 from the true value"
   ]
  },
  {
   "cell_type": "markdown",
   "metadata": {},
   "source": [
    "## Finding the right model"
   ]
  },
  {
   "cell_type": "markdown",
   "metadata": {},
   "source": [
    "Lets look at performance for linear regression and Random forest again"
   ]
  },
  {
   "cell_type": "code",
   "execution_count": 31,
   "metadata": {},
   "outputs": [
    {
     "name": "stdout",
     "output_type": "stream",
     "text": [
      "Linear Regression R-squared: 72.07\n",
      "The MAE is: 0.29\n",
      "The MSE is: 0.19\n"
     ]
    }
   ],
   "source": [
    "#Linear Regression Model Performance\n",
    "r_sq = reg.score(X_train, y_train)\n",
    "print('Linear Regression R-squared: {:.2f}'.format(r_sq * 100))\n",
    "print('The MAE is: {:.2f}'.format(mean_absolute_error(y_test, y_pred)))\n",
    "print(\"The MSE is: {:.2f}\".format(mean_squared_error(y_test, y_pred)))"
   ]
  },
  {
   "cell_type": "code",
   "execution_count": 32,
   "metadata": {},
   "outputs": [
    {
     "name": "stdout",
     "output_type": "stream",
     "text": [
      "Random Forest R-squared: 93.92\n",
      "The MAE is: 0.18\n",
      "The MSE is: 0.07\n"
     ]
    }
   ],
   "source": [
    "#Random Forest Model Performance\n",
    "print('Random Forest R-squared: {:.2f}'.format(rf_grid.score(rf_X_train,rf_y_train)*100))\n",
    "print('The MAE is: {:.2f}'.format(mean_absolute_error(rf_y_test, rf_y_pred)))\n",
    "print(\"The MSE is: {:.2f}\".format(mean_squared_error(rf_y_test, rf_y_pred)))"
   ]
  },
  {
   "cell_type": "markdown",
   "metadata": {},
   "source": [
    "Random Forest has the highest model accuracy and the lowest MAE and MSE. \n",
    "\n",
    "For those reasons we choose Random Forest as our model for this problem. \n"
   ]
  },
  {
   "cell_type": "markdown",
   "metadata": {},
   "source": [
    "In our feature importance visualization for Random Forest, we can see that the google search trend \"Cryptocurrency\" has the most impact on the price of cryptocurrencies. After that is a sharp decline, with Dogecoin and Ethereum.\n",
    "\n",
    "We might be able to hypothesize that Dogecoin is a much more voliate cryptocurency and depends heavily on consumer interest to keep the price at a certain level. "
   ]
  },
  {
   "cell_type": "code",
   "execution_count": null,
   "metadata": {},
   "outputs": [],
   "source": []
  }
 ],
 "metadata": {
  "kernelspec": {
   "display_name": "Python 3",
   "language": "python",
   "name": "python3"
  },
  "language_info": {
   "codemirror_mode": {
    "name": "ipython",
    "version": 3
   },
   "file_extension": ".py",
   "mimetype": "text/x-python",
   "name": "python",
   "nbconvert_exporter": "python",
   "pygments_lexer": "ipython3",
   "version": "3.8.5"
  }
 },
 "nbformat": 4,
 "nbformat_minor": 4
}
